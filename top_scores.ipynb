{
 "cells": [
  {
   "cell_type": "code",
   "execution_count": 1,
   "metadata": {},
   "outputs": [],
   "source": [
    "import pandas as pd"
   ]
  },
  {
   "cell_type": "code",
   "execution_count": 2,
   "metadata": {},
   "outputs": [],
   "source": [
    "title_scores = pd.read_csv(\"/Users/hgardner/Desktop/toxicity/title_scores.csv\")"
   ]
  },
  {
   "cell_type": "code",
   "execution_count": 3,
   "metadata": {},
   "outputs": [],
   "source": [
    "top = title_scores.sort_values(by=['score'],ascending=False)"
   ]
  },
  {
   "cell_type": "code",
   "execution_count": 4,
   "metadata": {},
   "outputs": [
    {
     "name": "stdout",
     "output_type": "stream",
     "text": [
      "                         bibid  \\\n",
      "568483       (OCoLC)1110021888   \n",
      "1710462  (CKB)4100000008484946   \n",
      "5191238     (OCoLC)ocm34699730   \n",
      "5666869     (OCoLC)ocm34699730   \n",
      "2899425    (OCoLC)ocn708243813   \n",
      "...                        ...   \n",
      "2292052  (CKB)1000000000331430   \n",
      "2285342  (CKB)2670000000319161   \n",
      "1995153  (CKB)4930000000050925   \n",
      "2427251  (CKB)1000000000022178   \n",
      "630103   (CKB)1000000000412254   \n",
      "\n",
      "                                                     title     score  \n",
      "568483                         Witches, Sluts, Feminists :  0.995228  \n",
      "1710462                        ¿Es tu jefe un gilipollas?.  0.995107  \n",
      "5191238                    La parra, la perra y la porra /  0.994347  \n",
      "5666869                    La parra, la perra y la porra /  0.994347  \n",
      "2899425                Witches, wife beaters, and whores :  0.993724  \n",
      "...                                                    ...       ...  \n",
      "2292052  2007 International Symposium on Computational ...  0.000092  \n",
      "2285342  2012 International Symposium on Optomechatroni...  0.000092  \n",
      "1995153  Bayerische Staatszeitung (Germany, German Lang...  0.000091  \n",
      "2427251  2003 IEEE International Workshop on Robot and ...  0.000090  \n",
      "630103      Mathematical frameworks for component software  0.000090  \n",
      "\n",
      "[5725631 rows x 3 columns]\n"
     ]
    }
   ],
   "source": [
    "print(top)"
   ]
  },
  {
   "cell_type": "code",
   "execution_count": 5,
   "metadata": {},
   "outputs": [],
   "source": [
    "top_scores = top[top.score >= .9]"
   ]
  },
  {
   "cell_type": "code",
   "execution_count": 6,
   "metadata": {},
   "outputs": [
    {
     "data": {
      "text/html": [
       "<div>\n",
       "<style scoped>\n",
       "    .dataframe tbody tr th:only-of-type {\n",
       "        vertical-align: middle;\n",
       "    }\n",
       "\n",
       "    .dataframe tbody tr th {\n",
       "        vertical-align: top;\n",
       "    }\n",
       "\n",
       "    .dataframe thead th {\n",
       "        text-align: right;\n",
       "    }\n",
       "</style>\n",
       "<table border=\"1\" class=\"dataframe\">\n",
       "  <thead>\n",
       "    <tr style=\"text-align: right;\">\n",
       "      <th></th>\n",
       "      <th>score</th>\n",
       "    </tr>\n",
       "  </thead>\n",
       "  <tbody>\n",
       "    <tr>\n",
       "      <th>count</th>\n",
       "      <td>1762.000000</td>\n",
       "    </tr>\n",
       "    <tr>\n",
       "      <th>mean</th>\n",
       "      <td>0.938135</td>\n",
       "    </tr>\n",
       "    <tr>\n",
       "      <th>std</th>\n",
       "      <td>0.024213</td>\n",
       "    </tr>\n",
       "    <tr>\n",
       "      <th>min</th>\n",
       "      <td>0.900107</td>\n",
       "    </tr>\n",
       "    <tr>\n",
       "      <th>25%</th>\n",
       "      <td>0.917311</td>\n",
       "    </tr>\n",
       "    <tr>\n",
       "      <th>50%</th>\n",
       "      <td>0.936283</td>\n",
       "    </tr>\n",
       "    <tr>\n",
       "      <th>75%</th>\n",
       "      <td>0.955735</td>\n",
       "    </tr>\n",
       "    <tr>\n",
       "      <th>max</th>\n",
       "      <td>0.995228</td>\n",
       "    </tr>\n",
       "  </tbody>\n",
       "</table>\n",
       "</div>"
      ],
      "text/plain": [
       "             score\n",
       "count  1762.000000\n",
       "mean      0.938135\n",
       "std       0.024213\n",
       "min       0.900107\n",
       "25%       0.917311\n",
       "50%       0.936283\n",
       "75%       0.955735\n",
       "max       0.995228"
      ]
     },
     "execution_count": 6,
     "metadata": {},
     "output_type": "execute_result"
    }
   ],
   "source": [
    "top_scores.describe()"
   ]
  },
  {
   "cell_type": "code",
   "execution_count": 7,
   "metadata": {},
   "outputs": [],
   "source": [
    "top_scores.to_csv('top_titles.csv',  index=False)"
   ]
  }
 ],
 "metadata": {
  "kernelspec": {
   "display_name": "Python 3.9.12 ('base')",
   "language": "python",
   "name": "python3"
  },
  "language_info": {
   "codemirror_mode": {
    "name": "ipython",
    "version": 3
   },
   "file_extension": ".py",
   "mimetype": "text/x-python",
   "name": "python",
   "nbconvert_exporter": "python",
   "pygments_lexer": "ipython3",
   "version": "3.9.12"
  },
  "orig_nbformat": 4,
  "vscode": {
   "interpreter": {
    "hash": "40d3a090f54c6569ab1632332b64b2c03c39dcf918b08424e98f38b5ae0af88f"
   }
  }
 },
 "nbformat": 4,
 "nbformat_minor": 2
}
