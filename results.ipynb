{
 "cells": [
  {
   "cell_type": "code",
   "execution_count": 2,
   "metadata": {},
   "outputs": [],
   "source": [
    "import pandas as pd\n",
    "import numpy as np\n",
    "import matplotlib.pyplot as plt\n",
    "import seaborn as sns\n"
   ]
  },
  {
   "cell_type": "code",
   "execution_count": 3,
   "metadata": {},
   "outputs": [],
   "source": [
    "title = pd.read_csv('/Users/hgardner/Desktop/toxicity/title_scores.csv')"
   ]
  },
  {
   "cell_type": "markdown",
   "metadata": {},
   "source": [
    "## Title Analysis"
   ]
  },
  {
   "cell_type": "code",
   "execution_count": 4,
   "metadata": {},
   "outputs": [
    {
     "name": "stdout",
     "output_type": "stream",
     "text": [
      "title shape (5725631, 3)\n",
      "de-dupped title shape (5570537, 3)\n"
     ]
    }
   ],
   "source": [
    "#checking for duplicates\n",
    "print('title shape', title.shape)\n",
    "#duplicates?\n",
    "title = title.drop_duplicates()\n",
    "print('de-dupped title shape', title.shape)"
   ]
  },
  {
   "cell_type": "code",
   "execution_count": 5,
   "metadata": {},
   "outputs": [
    {
     "data": {
      "text/html": [
       "<div>\n",
       "<style scoped>\n",
       "    .dataframe tbody tr th:only-of-type {\n",
       "        vertical-align: middle;\n",
       "    }\n",
       "\n",
       "    .dataframe tbody tr th {\n",
       "        vertical-align: top;\n",
       "    }\n",
       "\n",
       "    .dataframe thead th {\n",
       "        text-align: right;\n",
       "    }\n",
       "</style>\n",
       "<table border=\"1\" class=\"dataframe\">\n",
       "  <thead>\n",
       "    <tr style=\"text-align: right;\">\n",
       "      <th></th>\n",
       "      <th>score</th>\n",
       "    </tr>\n",
       "  </thead>\n",
       "  <tbody>\n",
       "    <tr>\n",
       "      <th>count</th>\n",
       "      <td>5.570537e+06</td>\n",
       "    </tr>\n",
       "    <tr>\n",
       "      <th>mean</th>\n",
       "      <td>5.084002e-03</td>\n",
       "    </tr>\n",
       "    <tr>\n",
       "      <th>std</th>\n",
       "      <td>4.134584e-02</td>\n",
       "    </tr>\n",
       "    <tr>\n",
       "      <th>min</th>\n",
       "      <td>9.022290e-05</td>\n",
       "    </tr>\n",
       "    <tr>\n",
       "      <th>25%</th>\n",
       "      <td>2.536507e-04</td>\n",
       "    </tr>\n",
       "    <tr>\n",
       "      <th>50%</th>\n",
       "      <td>3.478588e-04</td>\n",
       "    </tr>\n",
       "    <tr>\n",
       "      <th>75%</th>\n",
       "      <td>5.836900e-04</td>\n",
       "    </tr>\n",
       "    <tr>\n",
       "      <th>max</th>\n",
       "      <td>9.952282e-01</td>\n",
       "    </tr>\n",
       "  </tbody>\n",
       "</table>\n",
       "</div>"
      ],
      "text/plain": [
       "              score\n",
       "count  5.570537e+06\n",
       "mean   5.084002e-03\n",
       "std    4.134584e-02\n",
       "min    9.022290e-05\n",
       "25%    2.536507e-04\n",
       "50%    3.478588e-04\n",
       "75%    5.836900e-04\n",
       "max    9.952282e-01"
      ]
     },
     "execution_count": 5,
     "metadata": {},
     "output_type": "execute_result"
    }
   ],
   "source": [
    "#summary Statistics\n",
    "title.describe()"
   ]
  },
  {
   "cell_type": "code",
   "execution_count": 6,
   "metadata": {},
   "outputs": [
    {
     "name": "stdout",
     "output_type": "stream",
     "text": [
      "title score mean: 0.0050840024627873\n"
     ]
    }
   ],
   "source": [
    "#mean\n",
    "print('title score mean:', title['score'].mean())"
   ]
  },
  {
   "cell_type": "code",
   "execution_count": 7,
   "metadata": {},
   "outputs": [],
   "source": [
    "title = title.sort_values(by=\"score\", ascending=False)\n",
    "toptentitle = title.head(10)"
   ]
  },
  {
   "cell_type": "code",
   "execution_count": 8,
   "metadata": {},
   "outputs": [],
   "source": [
    "toptentitle.to_csv('toptentitle.csv', index=False)"
   ]
  },
  {
   "cell_type": "code",
   "execution_count": 9,
   "metadata": {},
   "outputs": [],
   "source": [
    "#dividing data into 4 categorical levels\n",
    "title['score_cat'] = pd.cut(title['score'], bins=[0, .25, .5, .75, 1], labels=['Under .25', '.25-.4999', '.5-.7499', '.75-1'])\n",
    "freq_table = pd.crosstab(index=title['score_cat'], columns='count')\n",
    "freq_table.reset_index(inplace=True)\n",
    "freq_table = freq_table.rename(columns = {'index':'score_cat'})"
   ]
  },
  {
   "cell_type": "code",
   "execution_count": 10,
   "metadata": {},
   "outputs": [],
   "source": [
    "freq_table.head()\n",
    "\n",
    "freq_table['percent_total'] = (freq_table['count']/5570537)*100"
   ]
  },
  {
   "cell_type": "code",
   "execution_count": 128,
   "metadata": {},
   "outputs": [
    {
     "data": {
      "image/png": "[encoded data removed]",
      "text/plain": [
       "<Figure size 792x504 with 1 Axes>"
      ]
     },
     "metadata": {},
     "output_type": "display_data"
    }
   ],
   "source": [
    "def show_values(axs, orient=\"v\", space=.01):\n",
    "    def _single(ax):\n",
    "        if orient == \"v\":\n",
    "            for p in ax.patches:\n",
    "                _x = p.get_x() + p.get_width() / 2\n",
    "                _y = p.get_y() + p.get_height() + (p.get_height()*0.01)\n",
    "                value = '{:.4f}'.format(p.get_height())\n",
    "                ax.text(_x, _y, value, ha=\"center\") \n",
    "        elif orient == \"h\":\n",
    "            for p in ax.patches:\n",
    "                _x = p.get_x() + p.get_width() + float(space)\n",
    "                _y = p.get_y() + p.get_height() - (p.get_height()*0.5)\n",
    "                value = '{:.4f}'.format(p.get_width())\n",
    "                ax.text(_x, _y, value, ha=\"left\")\n",
    "\n",
    "    if isinstance(axs, np.ndarray):\n",
    "        for idx, ax in np.ndenumerate(axs):\n",
    "            _single(ax)\n",
    "    else:\n",
    "        _single(axs)\n",
    "\n",
    "p = sns.barplot(x=\"score_cat\", y=\"percent_total\", data=freq_table)\n",
    "p.set(xlabel='Toxicity Score', ylabel='Percentage of Titles')\n",
    "p.set(title='Toxicity Score Levels by Percent of Titles')\n",
    "sns.set(rc={'figure.figsize':(11,7)})\n",
    "show_values(p)\n"
   ]
  },
  {
   "cell_type": "code",
   "execution_count": 12,
   "metadata": {},
   "outputs": [],
   "source": [
    "tox_t = title.loc[title['score'] >= .25]"
   ]
  },
  {
   "cell_type": "code",
   "execution_count": 13,
   "metadata": {},
   "outputs": [
    {
     "data": {
      "text/plain": [
       "(28096, 4)"
      ]
     },
     "execution_count": 13,
     "metadata": {},
     "output_type": "execute_result"
    }
   ],
   "source": [
    "tox_t.shape"
   ]
  },
  {
   "cell_type": "code",
   "execution_count": 126,
   "metadata": {},
   "outputs": [
    {
     "data": {
      "text/plain": [
       "(0.0, 2436.0)"
      ]
     },
     "execution_count": 126,
     "metadata": {},
     "output_type": "execute_result"
    },
    {
     "data": {
      "image/png": "[encoded data removed]",
      "text/plain": [
       "<Figure size 792x504 with 1 Axes>"
      ]
     },
     "metadata": {},
     "output_type": "display_data"
    }
   ],
   "source": [
    "#title histogram\n",
    "# An \"interface\" to matplotlib.axes.Axes.hist() method\n",
    "n, bins, patches = plt.hist(x=tox_t['score'], bins='auto', color='#333333',\n",
    "                            alpha=0.7, rwidth=1)\n",
    "plt.grid(axis='y', alpha=0.25)\n",
    "plt.xlabel('Toxicity Score')\n",
    "plt.ylabel('Catalog Records')\n",
    "plt.title('Distribution of Title Toxicity Scores Over .25')\n",
    "# Set a clean upper y-axis limit.\n",
    "plt.ylim()\n"
   ]
  },
  {
   "cell_type": "code",
   "execution_count": 125,
   "metadata": {},
   "outputs": [
    {
     "data": {
      "image/png": "[encoded data removed]",
      "text/plain": [
       "<Figure size 360x360 with 1 Axes>"
      ]
     },
     "metadata": {},
     "output_type": "display_data"
    }
   ],
   "source": [
    "#title score box plot\n",
    "plt.figure(figsize=(5,5))\n",
    "plt.boxplot(tox_t['score'])\n",
    "plt.xlabel('Title Toxicity Score')\n",
    "plt.title('Boxplot of Title Toxicity Score for Scores Over .25')\n",
    "plt.show()"
   ]
  },
  {
   "cell_type": "code",
   "execution_count": 16,
   "metadata": {},
   "outputs": [
    {
     "data": {
      "text/plain": [
       "0.5098808339631997"
      ]
     },
     "execution_count": 16,
     "metadata": {},
     "output_type": "execute_result"
    }
   ],
   "source": [
    "tox_t['score'].mean()"
   ]
  },
  {
   "cell_type": "code",
   "execution_count": 17,
   "metadata": {},
   "outputs": [
    {
     "data": {
      "text/plain": [
       "0.9952282"
      ]
     },
     "execution_count": 17,
     "metadata": {},
     "output_type": "execute_result"
    }
   ],
   "source": [
    "tox_t['score'].max()"
   ]
  },
  {
   "cell_type": "code",
   "execution_count": 18,
   "metadata": {},
   "outputs": [
    {
     "data": {
      "text/plain": [
       "0.25000012"
      ]
     },
     "execution_count": 18,
     "metadata": {},
     "output_type": "execute_result"
    }
   ],
   "source": [
    "tox_t['score'].min()"
   ]
  },
  {
   "cell_type": "code",
   "execution_count": 19,
   "metadata": {},
   "outputs": [],
   "source": [
    "tox_t.to_csv('tox_t.csv')"
   ]
  },
  {
   "cell_type": "markdown",
   "metadata": {},
   "source": [
    "### Subset analysis"
   ]
  },
  {
   "cell_type": "code",
   "execution_count": 100,
   "metadata": {},
   "outputs": [],
   "source": [
    "#m2 datasets\n",
    "final_title = pd.read_csv('/Users/hgardner/Desktop/toxicity/title_subset_scores.csv')\n"
   ]
  },
  {
   "cell_type": "code",
   "execution_count": 101,
   "metadata": {},
   "outputs": [
    {
     "data": {
      "text/html": [
       "<div>\n",
       "<style scoped>\n",
       "    .dataframe tbody tr th:only-of-type {\n",
       "        vertical-align: middle;\n",
       "    }\n",
       "\n",
       "    .dataframe tbody tr th {\n",
       "        vertical-align: top;\n",
       "    }\n",
       "\n",
       "    .dataframe thead th {\n",
       "        text-align: right;\n",
       "    }\n",
       "</style>\n",
       "<table border=\"1\" class=\"dataframe\">\n",
       "  <thead>\n",
       "    <tr style=\"text-align: right;\">\n",
       "      <th></th>\n",
       "      <th>score</th>\n",
       "      <th>severe_toxicity</th>\n",
       "      <th>identity_attack</th>\n",
       "      <th>insult</th>\n",
       "      <th>obscene</th>\n",
       "      <th>threat</th>\n",
       "    </tr>\n",
       "  </thead>\n",
       "  <tbody>\n",
       "    <tr>\n",
       "      <th>count</th>\n",
       "      <td>28263.000000</td>\n",
       "      <td>28263.000000</td>\n",
       "      <td>28263.000000</td>\n",
       "      <td>28263.000000</td>\n",
       "      <td>28263.000000</td>\n",
       "      <td>28263.000000</td>\n",
       "    </tr>\n",
       "    <tr>\n",
       "      <th>mean</th>\n",
       "      <td>0.509725</td>\n",
       "      <td>0.003743</td>\n",
       "      <td>0.074934</td>\n",
       "      <td>0.117033</td>\n",
       "      <td>0.092219</td>\n",
       "      <td>0.015743</td>\n",
       "    </tr>\n",
       "    <tr>\n",
       "      <th>std</th>\n",
       "      <td>0.211363</td>\n",
       "      <td>0.006558</td>\n",
       "      <td>0.146902</td>\n",
       "      <td>0.154644</td>\n",
       "      <td>0.157731</td>\n",
       "      <td>0.078146</td>\n",
       "    </tr>\n",
       "    <tr>\n",
       "      <th>min</th>\n",
       "      <td>0.250000</td>\n",
       "      <td>0.000017</td>\n",
       "      <td>0.000080</td>\n",
       "      <td>0.000150</td>\n",
       "      <td>0.000105</td>\n",
       "      <td>0.000027</td>\n",
       "    </tr>\n",
       "    <tr>\n",
       "      <th>25%</th>\n",
       "      <td>0.326345</td>\n",
       "      <td>0.000915</td>\n",
       "      <td>0.004077</td>\n",
       "      <td>0.024557</td>\n",
       "      <td>0.013100</td>\n",
       "      <td>0.000859</td>\n",
       "    </tr>\n",
       "    <tr>\n",
       "      <th>50%</th>\n",
       "      <td>0.450544</td>\n",
       "      <td>0.002162</td>\n",
       "      <td>0.009206</td>\n",
       "      <td>0.052377</td>\n",
       "      <td>0.038276</td>\n",
       "      <td>0.001619</td>\n",
       "    </tr>\n",
       "    <tr>\n",
       "      <th>75%</th>\n",
       "      <td>0.670208</td>\n",
       "      <td>0.004534</td>\n",
       "      <td>0.048030</td>\n",
       "      <td>0.141558</td>\n",
       "      <td>0.085388</td>\n",
       "      <td>0.003203</td>\n",
       "    </tr>\n",
       "    <tr>\n",
       "      <th>max</th>\n",
       "      <td>0.995228</td>\n",
       "      <td>0.270478</td>\n",
       "      <td>0.965268</td>\n",
       "      <td>0.966125</td>\n",
       "      <td>0.988001</td>\n",
       "      <td>0.944792</td>\n",
       "    </tr>\n",
       "  </tbody>\n",
       "</table>\n",
       "</div>"
      ],
      "text/plain": [
       "              score  severe_toxicity  identity_attack        insult  \\\n",
       "count  28263.000000     28263.000000     28263.000000  28263.000000   \n",
       "mean       0.509725         0.003743         0.074934      0.117033   \n",
       "std        0.211363         0.006558         0.146902      0.154644   \n",
       "min        0.250000         0.000017         0.000080      0.000150   \n",
       "25%        0.326345         0.000915         0.004077      0.024557   \n",
       "50%        0.450544         0.002162         0.009206      0.052377   \n",
       "75%        0.670208         0.004534         0.048030      0.141558   \n",
       "max        0.995228         0.270478         0.965268      0.966125   \n",
       "\n",
       "            obscene        threat  \n",
       "count  28263.000000  28263.000000  \n",
       "mean       0.092219      0.015743  \n",
       "std        0.157731      0.078146  \n",
       "min        0.000105      0.000027  \n",
       "25%        0.013100      0.000859  \n",
       "50%        0.038276      0.001619  \n",
       "75%        0.085388      0.003203  \n",
       "max        0.988001      0.944792  "
      ]
     },
     "execution_count": 101,
     "metadata": {},
     "output_type": "execute_result"
    }
   ],
   "source": [
    "final_title.describe()"
   ]
  },
  {
   "cell_type": "code",
   "execution_count": 102,
   "metadata": {},
   "outputs": [
    {
     "data": {
      "text/html": [
       "<div>\n",
       "<style scoped>\n",
       "    .dataframe tbody tr th:only-of-type {\n",
       "        vertical-align: middle;\n",
       "    }\n",
       "\n",
       "    .dataframe tbody tr th {\n",
       "        vertical-align: top;\n",
       "    }\n",
       "\n",
       "    .dataframe thead th {\n",
       "        text-align: right;\n",
       "    }\n",
       "</style>\n",
       "<table border=\"1\" class=\"dataframe\">\n",
       "  <thead>\n",
       "    <tr style=\"text-align: right;\">\n",
       "      <th></th>\n",
       "      <th>bibid</th>\n",
       "      <th>title_x</th>\n",
       "      <th>score</th>\n",
       "      <th>severe_toxicity</th>\n",
       "      <th>identity_attack</th>\n",
       "      <th>insult</th>\n",
       "      <th>obscene</th>\n",
       "      <th>threat</th>\n",
       "    </tr>\n",
       "  </thead>\n",
       "  <tbody>\n",
       "    <tr>\n",
       "      <th>0</th>\n",
       "      <td>(OCoLC)1110021888</td>\n",
       "      <td>Witches, Sluts, Feminists :</td>\n",
       "      <td>0.995228</td>\n",
       "      <td>0.196947</td>\n",
       "      <td>0.373013</td>\n",
       "      <td>0.774106</td>\n",
       "      <td>0.888815</td>\n",
       "      <td>0.007080</td>\n",
       "    </tr>\n",
       "    <tr>\n",
       "      <th>1</th>\n",
       "      <td>(CKB)4100000008484946</td>\n",
       "      <td>¿Es tu jefe un gilipollas?.</td>\n",
       "      <td>0.995107</td>\n",
       "      <td>0.028311</td>\n",
       "      <td>0.043871</td>\n",
       "      <td>0.110282</td>\n",
       "      <td>0.126094</td>\n",
       "      <td>0.002827</td>\n",
       "    </tr>\n",
       "    <tr>\n",
       "      <th>2</th>\n",
       "      <td>(OCoLC)ocm34699730</td>\n",
       "      <td>La parra, la perra y la porra /</td>\n",
       "      <td>0.994347</td>\n",
       "      <td>0.032834</td>\n",
       "      <td>0.021234</td>\n",
       "      <td>0.082941</td>\n",
       "      <td>0.107072</td>\n",
       "      <td>0.005126</td>\n",
       "    </tr>\n",
       "    <tr>\n",
       "      <th>3</th>\n",
       "      <td>(OCoLC)760279912</td>\n",
       "      <td>Witches, wife beaters, and whores :</td>\n",
       "      <td>0.993724</td>\n",
       "      <td>0.053704</td>\n",
       "      <td>0.053442</td>\n",
       "      <td>0.304931</td>\n",
       "      <td>0.478658</td>\n",
       "      <td>0.003060</td>\n",
       "    </tr>\n",
       "    <tr>\n",
       "      <th>4</th>\n",
       "      <td>(OCoLC)ocn708243813</td>\n",
       "      <td>Witches, wife beaters, and whores :</td>\n",
       "      <td>0.993724</td>\n",
       "      <td>0.053704</td>\n",
       "      <td>0.053442</td>\n",
       "      <td>0.304931</td>\n",
       "      <td>0.478658</td>\n",
       "      <td>0.003060</td>\n",
       "    </tr>\n",
       "    <tr>\n",
       "      <th>5</th>\n",
       "      <td>(YBPDDA)ebc869075</td>\n",
       "      <td>Why are faggots so afraid of faggots? :</td>\n",
       "      <td>0.993689</td>\n",
       "      <td>0.084071</td>\n",
       "      <td>0.962910</td>\n",
       "      <td>0.924434</td>\n",
       "      <td>0.891947</td>\n",
       "      <td>0.013831</td>\n",
       "    </tr>\n",
       "    <tr>\n",
       "      <th>6</th>\n",
       "      <td>(OCoLC)ocn232648188</td>\n",
       "      <td>Duck, you sucker</td>\n",
       "      <td>0.993178</td>\n",
       "      <td>0.079754</td>\n",
       "      <td>0.022665</td>\n",
       "      <td>0.927610</td>\n",
       "      <td>0.944253</td>\n",
       "      <td>0.008323</td>\n",
       "    </tr>\n",
       "    <tr>\n",
       "      <th>7</th>\n",
       "      <td>(OCoLC)ocm30835997</td>\n",
       "      <td>Wild Dick, the Indian slayer ...</td>\n",
       "      <td>0.992767</td>\n",
       "      <td>0.141919</td>\n",
       "      <td>0.372618</td>\n",
       "      <td>0.644148</td>\n",
       "      <td>0.938744</td>\n",
       "      <td>0.023427</td>\n",
       "    </tr>\n",
       "    <tr>\n",
       "      <th>8</th>\n",
       "      <td>(OCoLC)ocn953830144</td>\n",
       "      <td>Stupid fucking bird :</td>\n",
       "      <td>0.992248</td>\n",
       "      <td>0.134735</td>\n",
       "      <td>0.209096</td>\n",
       "      <td>0.958942</td>\n",
       "      <td>0.973033</td>\n",
       "      <td>0.014662</td>\n",
       "    </tr>\n",
       "    <tr>\n",
       "      <th>9</th>\n",
       "      <td>(MiAaPQ)EBC869075</td>\n",
       "      <td>Why are faggots so afraid of faggots?</td>\n",
       "      <td>0.992063</td>\n",
       "      <td>0.070818</td>\n",
       "      <td>0.964140</td>\n",
       "      <td>0.927835</td>\n",
       "      <td>0.889551</td>\n",
       "      <td>0.014365</td>\n",
       "    </tr>\n",
       "  </tbody>\n",
       "</table>\n",
       "</div>"
      ],
      "text/plain": [
       "                   bibid                                  title_x     score  \\\n",
       "0      (OCoLC)1110021888              Witches, Sluts, Feminists :  0.995228   \n",
       "1  (CKB)4100000008484946              ¿Es tu jefe un gilipollas?.  0.995107   \n",
       "2     (OCoLC)ocm34699730          La parra, la perra y la porra /  0.994347   \n",
       "3       (OCoLC)760279912      Witches, wife beaters, and whores :  0.993724   \n",
       "4    (OCoLC)ocn708243813      Witches, wife beaters, and whores :  0.993724   \n",
       "5      (YBPDDA)ebc869075  Why are faggots so afraid of faggots? :  0.993689   \n",
       "6    (OCoLC)ocn232648188                         Duck, you sucker  0.993178   \n",
       "7     (OCoLC)ocm30835997         Wild Dick, the Indian slayer ...  0.992767   \n",
       "8    (OCoLC)ocn953830144                    Stupid fucking bird :  0.992248   \n",
       "9      (MiAaPQ)EBC869075    Why are faggots so afraid of faggots?  0.992063   \n",
       "\n",
       "   severe_toxicity  identity_attack    insult   obscene    threat  \n",
       "0         0.196947         0.373013  0.774106  0.888815  0.007080  \n",
       "1         0.028311         0.043871  0.110282  0.126094  0.002827  \n",
       "2         0.032834         0.021234  0.082941  0.107072  0.005126  \n",
       "3         0.053704         0.053442  0.304931  0.478658  0.003060  \n",
       "4         0.053704         0.053442  0.304931  0.478658  0.003060  \n",
       "5         0.084071         0.962910  0.924434  0.891947  0.013831  \n",
       "6         0.079754         0.022665  0.927610  0.944253  0.008323  \n",
       "7         0.141919         0.372618  0.644148  0.938744  0.023427  \n",
       "8         0.134735         0.209096  0.958942  0.973033  0.014662  \n",
       "9         0.070818         0.964140  0.927835  0.889551  0.014365  "
      ]
     },
     "execution_count": 102,
     "metadata": {},
     "output_type": "execute_result"
    }
   ],
   "source": [
    "final_title.head(10)"
   ]
  },
  {
   "cell_type": "code",
   "execution_count": 103,
   "metadata": {},
   "outputs": [
    {
     "name": "stdout",
     "output_type": "stream",
     "text": [
      "<class 'pandas.core.frame.DataFrame'>\n",
      "RangeIndex: 28263 entries, 0 to 28262\n",
      "Data columns (total 8 columns):\n",
      " #   Column           Non-Null Count  Dtype  \n",
      "---  ------           --------------  -----  \n",
      " 0   bibid            28263 non-null  object \n",
      " 1   title_x          28263 non-null  object \n",
      " 2   score            28263 non-null  float64\n",
      " 3   severe_toxicity  28263 non-null  float64\n",
      " 4   identity_attack  28263 non-null  float64\n",
      " 5   insult           28263 non-null  float64\n",
      " 6   obscene          28263 non-null  float64\n",
      " 7   threat           28263 non-null  float64\n",
      "dtypes: float64(6), object(2)\n",
      "memory usage: 1.7+ MB\n"
     ]
    }
   ],
   "source": [
    "final_title.info()"
   ]
  },
  {
   "cell_type": "code",
   "execution_count": 104,
   "metadata": {},
   "outputs": [
    {
     "data": {
      "image/png": "[encoded data removed]",
      "text/plain": [
       "<Figure size 792x504 with 1 Axes>"
      ]
     },
     "metadata": {},
     "output_type": "display_data"
    }
   ],
   "source": [
    "ax = sns.boxplot(data=final_title)\n",
    "ax.set(xlabel='Attribute', ylabel='Score')\n",
    "ax.set(title='Subset Scores of Titles with Toxicity Score Over .25')\n",
    "sns.set(rc={'figure.figsize':(11,7)})\n",
    "sns.set(font_scale=1)\n"
   ]
  },
  {
   "cell_type": "markdown",
   "metadata": {},
   "source": [
    "## Description Analysis"
   ]
  },
  {
   "cell_type": "code",
   "execution_count": 109,
   "metadata": {},
   "outputs": [],
   "source": [
    "desc = pd.read_csv('/Users/hgardner/Desktop/toxicity/desc_scores.csv')"
   ]
  },
  {
   "cell_type": "code",
   "execution_count": 110,
   "metadata": {},
   "outputs": [
    {
     "name": "stdout",
     "output_type": "stream",
     "text": [
      "desc shape (721454, 3)\n",
      "de-dupped desc shape (715188, 3)\n"
     ]
    }
   ],
   "source": [
    "#checking for duplicates\n",
    "print('desc shape', desc.shape)\n",
    "#duplicates?\n",
    "desc = desc.drop_duplicates()\n",
    "print('de-dupped desc shape', desc.shape)"
   ]
  },
  {
   "cell_type": "code",
   "execution_count": 111,
   "metadata": {},
   "outputs": [
    {
     "data": {
      "text/html": [
       "<div>\n",
       "<style scoped>\n",
       "    .dataframe tbody tr th:only-of-type {\n",
       "        vertical-align: middle;\n",
       "    }\n",
       "\n",
       "    .dataframe tbody tr th {\n",
       "        vertical-align: top;\n",
       "    }\n",
       "\n",
       "    .dataframe thead th {\n",
       "        text-align: right;\n",
       "    }\n",
       "</style>\n",
       "<table border=\"1\" class=\"dataframe\">\n",
       "  <thead>\n",
       "    <tr style=\"text-align: right;\">\n",
       "      <th></th>\n",
       "      <th>score</th>\n",
       "    </tr>\n",
       "  </thead>\n",
       "  <tbody>\n",
       "    <tr>\n",
       "      <th>count</th>\n",
       "      <td>715188.000000</td>\n",
       "    </tr>\n",
       "    <tr>\n",
       "      <th>mean</th>\n",
       "      <td>0.003691</td>\n",
       "    </tr>\n",
       "    <tr>\n",
       "      <th>std</th>\n",
       "      <td>0.031149</td>\n",
       "    </tr>\n",
       "    <tr>\n",
       "      <th>min</th>\n",
       "      <td>0.000093</td>\n",
       "    </tr>\n",
       "    <tr>\n",
       "      <th>25%</th>\n",
       "      <td>0.000257</td>\n",
       "    </tr>\n",
       "    <tr>\n",
       "      <th>50%</th>\n",
       "      <td>0.000337</td>\n",
       "    </tr>\n",
       "    <tr>\n",
       "      <th>75%</th>\n",
       "      <td>0.000477</td>\n",
       "    </tr>\n",
       "    <tr>\n",
       "      <th>max</th>\n",
       "      <td>0.983634</td>\n",
       "    </tr>\n",
       "  </tbody>\n",
       "</table>\n",
       "</div>"
      ],
      "text/plain": [
       "               score\n",
       "count  715188.000000\n",
       "mean        0.003691\n",
       "std         0.031149\n",
       "min         0.000093\n",
       "25%         0.000257\n",
       "50%         0.000337\n",
       "75%         0.000477\n",
       "max         0.983634"
      ]
     },
     "execution_count": 111,
     "metadata": {},
     "output_type": "execute_result"
    }
   ],
   "source": [
    "#summary Statistics\n",
    "desc.describe()"
   ]
  },
  {
   "cell_type": "code",
   "execution_count": 108,
   "metadata": {},
   "outputs": [
    {
     "data": {
      "text/plain": [
       "0.45609681871165864"
      ]
     },
     "execution_count": 108,
     "metadata": {},
     "output_type": "execute_result"
    }
   ],
   "source": [
    "desc['score'].mean()"
   ]
  },
  {
   "cell_type": "code",
   "execution_count": 112,
   "metadata": {},
   "outputs": [],
   "source": [
    "desc = desc.sort_values(by=\"score\", ascending=False)\n",
    "toptendesc = desc.head(10)"
   ]
  },
  {
   "cell_type": "code",
   "execution_count": 113,
   "metadata": {},
   "outputs": [],
   "source": [
    "#dividing data into 4 categorical levels\n",
    "desc['score_cat'] = pd.cut(desc['score'], bins=[0, .25, .5, .75, 1], labels=['Under .25', '.25-.4999', '.5-.7499', '.75-1'])\n",
    "freq_table = pd.crosstab(index=desc['score_cat'], columns='count')\n",
    "freq_table.reset_index(inplace=True)\n",
    "freq_table = freq_table.rename(columns = {'index':'score_cat'})"
   ]
  },
  {
   "cell_type": "code",
   "execution_count": 114,
   "metadata": {},
   "outputs": [],
   "source": [
    "freq_table['percent_total'] = (freq_table['count']/715188)*100"
   ]
  },
  {
   "cell_type": "code",
   "execution_count": 129,
   "metadata": {},
   "outputs": [
    {
     "data": {
      "image/png": "[encoded data removed]",
      "text/plain": [
       "<Figure size 792x504 with 1 Axes>"
      ]
     },
     "metadata": {},
     "output_type": "display_data"
    }
   ],
   "source": [
    "def show_values(axs, orient=\"v\", space=.01):\n",
    "    def _single(ax):\n",
    "        if orient == \"v\":\n",
    "            for p in ax.patches:\n",
    "                _x = p.get_x() + p.get_width() / 2\n",
    "                _y = p.get_y() + p.get_height() + (p.get_height()*0.01)\n",
    "                value = '{:.4f}'.format(p.get_height())\n",
    "                ax.text(_x, _y, value, ha=\"center\") \n",
    "        elif orient == \"h\":\n",
    "            for p in ax.patches:\n",
    "                _x = p.get_x() + p.get_width() + float(space)\n",
    "                _y = p.get_y() + p.get_height() - (p.get_height()*0.5)\n",
    "                value = '{:.4f}'.format(p.get_width())\n",
    "                ax.text(_x, _y, value, ha=\"left\")\n",
    "\n",
    "    if isinstance(axs, np.ndarray):\n",
    "        for idx, ax in np.ndenumerate(axs):\n",
    "            _single(ax)\n",
    "    else:\n",
    "        _single(axs)\n",
    "\n",
    "p = sns.barplot(x=\"score_cat\", y=\"percent_total\", data=freq_table)\n",
    "p.set(xlabel='Toxicity Score', ylabel='Percentage of Descriptions')\n",
    "p.set(title='Toxicity Score Levels by Percent of Descriptions')\n",
    "sns.set(rc={'figure.figsize':(11,7)})\n",
    "show_values(p)\n"
   ]
  },
  {
   "cell_type": "code",
   "execution_count": 116,
   "metadata": {},
   "outputs": [],
   "source": [
    "tox_d = desc.loc[desc['score'] >= .25]"
   ]
  },
  {
   "cell_type": "code",
   "execution_count": 117,
   "metadata": {},
   "outputs": [
    {
     "data": {
      "text/plain": [
       "(2443, 4)"
      ]
     },
     "execution_count": 117,
     "metadata": {},
     "output_type": "execute_result"
    }
   ],
   "source": [
    "tox_d.shape"
   ]
  },
  {
   "cell_type": "code",
   "execution_count": 118,
   "metadata": {},
   "outputs": [
    {
     "data": {
      "text/plain": [
       "(0.0, 604.8)"
      ]
     },
     "execution_count": 118,
     "metadata": {},
     "output_type": "execute_result"
    },
    {
     "data": {
      "image/png": "[encoded data removed]",
      "text/plain": [
       "<Figure size 792x504 with 1 Axes>"
      ]
     },
     "metadata": {},
     "output_type": "display_data"
    }
   ],
   "source": [
    "#desc histogram\n",
    "# An \"interface\" to matplotlib.axes.Axes.hist() method\n",
    "n, bins, patches = plt.hist(x=tox_d['score'], bins='auto', color='#333333',\n",
    "                            alpha=0.7, rwidth=1)\n",
    "plt.grid(axis='y', alpha=0.25)\n",
    "plt.xlabel('Toxicity Score')\n",
    "plt.ylabel('Catalog Records')\n",
    "plt.title('Distribution of Description Toxicity Scores Over .25')\n",
    "# Set a clean upper y-axis limit.\n",
    "plt.ylim()"
   ]
  },
  {
   "cell_type": "code",
   "execution_count": 119,
   "metadata": {},
   "outputs": [
    {
     "data": {
      "text/plain": [
       "0.45586692572656784"
      ]
     },
     "execution_count": 119,
     "metadata": {},
     "output_type": "execute_result"
    }
   ],
   "source": [
    "tox_d['score'].mean()"
   ]
  },
  {
   "cell_type": "code",
   "execution_count": 120,
   "metadata": {},
   "outputs": [],
   "source": [
    "tox_d.to_csv('tox_d.csv', index=False)"
   ]
  },
  {
   "cell_type": "code",
   "execution_count": 121,
   "metadata": {},
   "outputs": [],
   "source": [
    "#m2 datasets\n",
    "final_desc = pd.read_csv('/Users/hgardner/Desktop/toxicity/desc_subset_scores.csv')\n"
   ]
  },
  {
   "cell_type": "code",
   "execution_count": 124,
   "metadata": {},
   "outputs": [
    {
     "data": {
      "text/html": [
       "<div>\n",
       "<style scoped>\n",
       "    .dataframe tbody tr th:only-of-type {\n",
       "        vertical-align: middle;\n",
       "    }\n",
       "\n",
       "    .dataframe tbody tr th {\n",
       "        vertical-align: top;\n",
       "    }\n",
       "\n",
       "    .dataframe thead th {\n",
       "        text-align: right;\n",
       "    }\n",
       "</style>\n",
       "<table border=\"1\" class=\"dataframe\">\n",
       "  <thead>\n",
       "    <tr style=\"text-align: right;\">\n",
       "      <th></th>\n",
       "      <th>score</th>\n",
       "      <th>severe_toxicity</th>\n",
       "      <th>identity_attack</th>\n",
       "      <th>insult</th>\n",
       "      <th>obscene</th>\n",
       "      <th>threat</th>\n",
       "    </tr>\n",
       "  </thead>\n",
       "  <tbody>\n",
       "    <tr>\n",
       "      <th>count</th>\n",
       "      <td>2447.000000</td>\n",
       "      <td>2447.000000</td>\n",
       "      <td>2447.000000</td>\n",
       "      <td>2447.000000</td>\n",
       "      <td>2447.000000</td>\n",
       "      <td>2447.000000</td>\n",
       "    </tr>\n",
       "    <tr>\n",
       "      <th>mean</th>\n",
       "      <td>0.456053</td>\n",
       "      <td>0.003494</td>\n",
       "      <td>0.122282</td>\n",
       "      <td>0.116314</td>\n",
       "      <td>0.044160</td>\n",
       "      <td>0.007781</td>\n",
       "    </tr>\n",
       "    <tr>\n",
       "      <th>std</th>\n",
       "      <td>0.186568</td>\n",
       "      <td>0.008608</td>\n",
       "      <td>0.169196</td>\n",
       "      <td>0.145538</td>\n",
       "      <td>0.093440</td>\n",
       "      <td>0.036027</td>\n",
       "    </tr>\n",
       "    <tr>\n",
       "      <th>min</th>\n",
       "      <td>0.250022</td>\n",
       "      <td>0.000030</td>\n",
       "      <td>0.000278</td>\n",
       "      <td>0.001692</td>\n",
       "      <td>0.000472</td>\n",
       "      <td>0.000058</td>\n",
       "    </tr>\n",
       "    <tr>\n",
       "      <th>25%</th>\n",
       "      <td>0.295464</td>\n",
       "      <td>0.000705</td>\n",
       "      <td>0.004648</td>\n",
       "      <td>0.021417</td>\n",
       "      <td>0.007340</td>\n",
       "      <td>0.000763</td>\n",
       "    </tr>\n",
       "    <tr>\n",
       "      <th>50%</th>\n",
       "      <td>0.395659</td>\n",
       "      <td>0.001997</td>\n",
       "      <td>0.022091</td>\n",
       "      <td>0.056085</td>\n",
       "      <td>0.012064</td>\n",
       "      <td>0.002269</td>\n",
       "    </tr>\n",
       "    <tr>\n",
       "      <th>75%</th>\n",
       "      <td>0.574273</td>\n",
       "      <td>0.003602</td>\n",
       "      <td>0.189615</td>\n",
       "      <td>0.142301</td>\n",
       "      <td>0.037624</td>\n",
       "      <td>0.004033</td>\n",
       "    </tr>\n",
       "    <tr>\n",
       "      <th>max</th>\n",
       "      <td>0.983634</td>\n",
       "      <td>0.268177</td>\n",
       "      <td>0.911426</td>\n",
       "      <td>0.973171</td>\n",
       "      <td>0.940564</td>\n",
       "      <td>0.666029</td>\n",
       "    </tr>\n",
       "  </tbody>\n",
       "</table>\n",
       "</div>"
      ],
      "text/plain": [
       "             score  severe_toxicity  identity_attack       insult  \\\n",
       "count  2447.000000      2447.000000      2447.000000  2447.000000   \n",
       "mean      0.456053         0.003494         0.122282     0.116314   \n",
       "std       0.186568         0.008608         0.169196     0.145538   \n",
       "min       0.250022         0.000030         0.000278     0.001692   \n",
       "25%       0.295464         0.000705         0.004648     0.021417   \n",
       "50%       0.395659         0.001997         0.022091     0.056085   \n",
       "75%       0.574273         0.003602         0.189615     0.142301   \n",
       "max       0.983634         0.268177         0.911426     0.973171   \n",
       "\n",
       "           obscene       threat  \n",
       "count  2447.000000  2447.000000  \n",
       "mean      0.044160     0.007781  \n",
       "std       0.093440     0.036027  \n",
       "min       0.000472     0.000058  \n",
       "25%       0.007340     0.000763  \n",
       "50%       0.012064     0.002269  \n",
       "75%       0.037624     0.004033  \n",
       "max       0.940564     0.666029  "
      ]
     },
     "execution_count": 124,
     "metadata": {},
     "output_type": "execute_result"
    }
   ],
   "source": [
    "final_desc.describe()"
   ]
  },
  {
   "cell_type": "code",
   "execution_count": 123,
   "metadata": {},
   "outputs": [
    {
     "data": {
      "image/png": "[encoded data removed]",
      "text/plain": [
       "<Figure size 792x504 with 1 Axes>"
      ]
     },
     "metadata": {},
     "output_type": "display_data"
    }
   ],
   "source": [
    "ax = sns.boxplot(data=final_desc)\n",
    "ax.set(xlabel='Attribute', ylabel='Score')\n",
    "ax.set(title='Subset Scores of Descriptions with Toxicity Score Over .25')\n",
    "sns.set(rc={'figure.figsize':(11,7)})\n",
    "sns.set(font_scale=1)\n"
   ]
  },
  {
   "cell_type": "code",
   "execution_count": 130,
   "metadata": {},
   "outputs": [],
   "source": [
    "subdf = pd.read_csv('/Users/hgardner/Desktop/toxicity/data/parsed data files/raw_subject.csv')"
   ]
  },
  {
   "cell_type": "code",
   "execution_count": 131,
   "metadata": {},
   "outputs": [],
   "source": [
    "desc_sub = final_desc.merge(subdf, on='bibid', how='left')"
   ]
  },
  {
   "cell_type": "code",
   "execution_count": 132,
   "metadata": {},
   "outputs": [
    {
     "data": {
      "text/html": [
       "<div>\n",
       "<style scoped>\n",
       "    .dataframe tbody tr th:only-of-type {\n",
       "        vertical-align: middle;\n",
       "    }\n",
       "\n",
       "    .dataframe tbody tr th {\n",
       "        vertical-align: top;\n",
       "    }\n",
       "\n",
       "    .dataframe thead th {\n",
       "        text-align: right;\n",
       "    }\n",
       "</style>\n",
       "<table border=\"1\" class=\"dataframe\">\n",
       "  <thead>\n",
       "    <tr style=\"text-align: right;\">\n",
       "      <th></th>\n",
       "      <th>bibid</th>\n",
       "      <th>description_x</th>\n",
       "      <th>score</th>\n",
       "      <th>severe_toxicity</th>\n",
       "      <th>identity_attack</th>\n",
       "      <th>insult</th>\n",
       "      <th>obscene</th>\n",
       "      <th>threat</th>\n",
       "      <th>subject</th>\n",
       "    </tr>\n",
       "  </thead>\n",
       "  <tbody>\n",
       "    <tr>\n",
       "      <th>0</th>\n",
       "      <td>(CKB)3710000000420489</td>\n",
       "      <td>Do you ever find yourself thinking, how could ...</td>\n",
       "      <td>0.983634</td>\n",
       "      <td>0.007580</td>\n",
       "      <td>0.010585</td>\n",
       "      <td>0.952982</td>\n",
       "      <td>0.763423</td>\n",
       "      <td>0.001579</td>\n",
       "      <td>Criticism, Personal.</td>\n",
       "    </tr>\n",
       "    <tr>\n",
       "      <th>1</th>\n",
       "      <td>(CKB)1000000000380783</td>\n",
       "      <td>Praise for Hoover’s bestseller How to Work for...</td>\n",
       "      <td>0.981940</td>\n",
       "      <td>0.000850</td>\n",
       "      <td>0.001173</td>\n",
       "      <td>0.973171</td>\n",
       "      <td>0.071720</td>\n",
       "      <td>0.001047</td>\n",
       "      <td>Managing your boss.</td>\n",
       "    </tr>\n",
       "    <tr>\n",
       "      <th>2</th>\n",
       "      <td>(YBPDDA)ebc1177199</td>\n",
       "      <td>Uncrossable rivers! Hospitable nomads! Rabid d...</td>\n",
       "      <td>0.980722</td>\n",
       "      <td>0.002542</td>\n",
       "      <td>0.008085</td>\n",
       "      <td>0.952237</td>\n",
       "      <td>0.265998</td>\n",
       "      <td>0.001322</td>\n",
       "      <td>Mountain biking</td>\n",
       "    </tr>\n",
       "    <tr>\n",
       "      <th>3</th>\n",
       "      <td>(OCoLC)ocm37115033</td>\n",
       "      <td>Sleuth Hap Collins and his black sidekick go a...</td>\n",
       "      <td>0.978410</td>\n",
       "      <td>0.029838</td>\n",
       "      <td>0.911426</td>\n",
       "      <td>0.461446</td>\n",
       "      <td>0.160124</td>\n",
       "      <td>0.050536</td>\n",
       "      <td>Collins, Hap (Fictitious character)</td>\n",
       "    </tr>\n",
       "    <tr>\n",
       "      <th>4</th>\n",
       "      <td>(CKB)3790000000019336</td>\n",
       "      <td>École de merde, élèves de merde, profs de ...</td>\n",
       "      <td>0.972781</td>\n",
       "      <td>0.017700</td>\n",
       "      <td>0.008512</td>\n",
       "      <td>0.073015</td>\n",
       "      <td>0.063699</td>\n",
       "      <td>0.002601</td>\n",
       "      <td>Teachers</td>\n",
       "    </tr>\n",
       "  </tbody>\n",
       "</table>\n",
       "</div>"
      ],
      "text/plain": [
       "                   bibid                                      description_x  \\\n",
       "0  (CKB)3710000000420489  Do you ever find yourself thinking, how could ...   \n",
       "1  (CKB)1000000000380783  Praise for Hoover’s bestseller How to Work for...   \n",
       "2     (YBPDDA)ebc1177199  Uncrossable rivers! Hospitable nomads! Rabid d...   \n",
       "3     (OCoLC)ocm37115033  Sleuth Hap Collins and his black sidekick go a...   \n",
       "4  (CKB)3790000000019336   École de merde, élèves de merde, profs de ...   \n",
       "\n",
       "      score  severe_toxicity  identity_attack    insult   obscene    threat  \\\n",
       "0  0.983634         0.007580         0.010585  0.952982  0.763423  0.001579   \n",
       "1  0.981940         0.000850         0.001173  0.973171  0.071720  0.001047   \n",
       "2  0.980722         0.002542         0.008085  0.952237  0.265998  0.001322   \n",
       "3  0.978410         0.029838         0.911426  0.461446  0.160124  0.050536   \n",
       "4  0.972781         0.017700         0.008512  0.073015  0.063699  0.002601   \n",
       "\n",
       "                               subject  \n",
       "0                 Criticism, Personal.  \n",
       "1                  Managing your boss.  \n",
       "2                      Mountain biking  \n",
       "3  Collins, Hap (Fictitious character)  \n",
       "4                             Teachers  "
      ]
     },
     "execution_count": 132,
     "metadata": {},
     "output_type": "execute_result"
    }
   ],
   "source": [
    "desc_sub.head()"
   ]
  }
 ],
 "metadata": {
  "kernelspec": {
   "display_name": "Python 3.9.12 ('base')",
   "language": "python",
   "name": "python3"
  },
  "language_info": {
   "codemirror_mode": {
    "name": "ipython",
    "version": 3
   },
   "file_extension": ".py",
   "mimetype": "text/x-python",
   "name": "python",
   "nbconvert_exporter": "python",
   "pygments_lexer": "ipython3",
   "version": "3.9.12"
  },
  "orig_nbformat": 4,
  "vscode": {
   "interpreter": {
    "hash": "40d3a090f54c6569ab1632332b64b2c03c39dcf918b08424e98f38b5ae0af88f"
   }
  }
 },
 "nbformat": 4,
 "nbformat_minor": 2
}
