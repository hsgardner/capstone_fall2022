{
 "cells": [
  {
   "cell_type": "code",
   "execution_count": 1,
   "metadata": {},
   "outputs": [],
   "source": [
    "import numpy as np\n",
    "import pandas as pd\n",
    "\n",
    "# For visualizations\n",
    "import matplotlib.pyplot as plt\n",
    "import nltk\n",
    "import seaborn as sns\n",
    "import gensim\n",
    "import pyLDAvis\n",
    "import textblob\n",
    "import spacy\n",
    "\n",
    "# For regular expressions\n",
    "import re\n",
    "# For handling string\n",
    "import string\n",
    "# For performing mathematical operations\n",
    "import math\n",
    "\n",
    "# Importing dataset\n",
    "df=pd.read_csv('/Users/hgardner/Desktop/toxicity/data/preprocessed_data/cat_desc.csv')"
   ]
  },
  {
   "cell_type": "code",
   "execution_count": 2,
   "metadata": {},
   "outputs": [
    {
     "data": {
      "text/plain": [
       "(721454, 3)"
      ]
     },
     "execution_count": 2,
     "metadata": {},
     "output_type": "execute_result"
    }
   ],
   "source": [
    "df.shape"
   ]
  },
  {
   "cell_type": "markdown",
   "metadata": {},
   "source": [
    "## Text Stat\n",
    "\n",
    "Dale Chall Score: https://en.wikipedia.org/wiki/Dale%E2%80%93Chall_readability_formula, 0-9.9 scale; the higher the score, the higher the level of the reader \n",
    "\n",
    "Flesch Reading Score: https://en.wikipedia.org/wiki/Flesch%E2%80%93Kincaid_readability_tests, 0-100 scale; the higher the score, the easier the text is to read \n",
    "\n",
    "Gunning Fog Index: https://en.wikipedia.org/wiki/Gunning_fog_index \n",
    "\n",
    "Instructions: https://www.analyticsvidhya.com/blog/2020/04/beginners-guide-exploratory-data-analysis-text-data/ "
   ]
  },
  {
   "cell_type": "code",
   "execution_count": 3,
   "metadata": {},
   "outputs": [],
   "source": [
    "import textstat\n",
    "\n",
    "df['dale_chall_score']=df['description'].apply(lambda x: textstat.dale_chall_readability_score(x))\n",
    "df['flesch_reading_ease']=df['description'].apply(lambda x: textstat.flesch_reading_ease(x))\n",
    "df['gunning_fog']=df['description'].apply(lambda x: textstat.gunning_fog(x))\n"
   ]
  },
  {
   "cell_type": "code",
   "execution_count": 4,
   "metadata": {},
   "outputs": [
    {
     "name": "stdout",
     "output_type": "stream",
     "text": [
      "Dale Chall Score of Descriptions: Mean 15.269600736776187\n",
      "Dale Chall Score of Descriptions: Min 0.0\n",
      "Dale Chall Score of Descriptions: Median 11.78\n",
      "Dale Chall Score of Descriptions: Max 666.87\n",
      "Dale Chall Score of Descriptions: Mode 0    35.27\n",
      "Name: dale_chall_score, dtype: float64\n",
      "Flesch Reading Score of Descriptions: Mean 35.63650015094354\n",
      "Flesch Reading Score of Descriptions: Min -1783.3\n",
      "Flesch Reading Score of Descriptions: Median 36.62\n",
      "Flesch Reading Score of Descriptions: Max 206.84\n",
      "Flesch Reading Score of Descriptions: Mode 0    36.62\n",
      "Name: flesch_reading_ease, dtype: float64\n",
      "Gunning Fog Index of Descriptions: Mean 14.071123079271572\n",
      "Gunning Fog Index of Descriptions: Min  0.0\n",
      "Gunning Fog Index of Descriptions: Median 15.26\n",
      "Gunning Fog Index of Descriptions: Max  145.22\n",
      "Gunning Fog Index of Descriptions: Mode 0    0.4\n",
      "Name: gunning_fog, dtype: float64\n"
     ]
    }
   ],
   "source": [
    "print('Dale Chall Score of Descriptions: Mean',df['dale_chall_score'].mean())\n",
    "print('Dale Chall Score of Descriptions: Min',df['dale_chall_score'].min())\n",
    "print('Dale Chall Score of Descriptions: Median',df['dale_chall_score'].median())\n",
    "print('Dale Chall Score of Descriptions: Max',df['dale_chall_score'].max())\n",
    "print('Dale Chall Score of Descriptions: Mode',df['dale_chall_score'].mode())\n",
    "\n",
    "print('Flesch Reading Score of Descriptions: Mean',df['flesch_reading_ease'].mean())\n",
    "print('Flesch Reading Score of Descriptions: Min',df['flesch_reading_ease'].min())\n",
    "print('Flesch Reading Score of Descriptions: Median',df['flesch_reading_ease'].median())\n",
    "print('Flesch Reading Score of Descriptions: Max',df['flesch_reading_ease'].max())\n",
    "print('Flesch Reading Score of Descriptions: Mode',df['flesch_reading_ease'].mode())\n",
    "\n",
    "print('Gunning Fog Index of Descriptions: Mean',df['gunning_fog'].mean())\n",
    "print('Gunning Fog Index of Descriptions: Min ',df['gunning_fog'].min())\n",
    "print('Gunning Fog Index of Descriptions: Median',df['gunning_fog'].median())\n",
    "print('Gunning Fog Index of Descriptions: Max ',df['gunning_fog'].max())\n",
    "print('Gunning Fog Index of Descriptions: Mode',df['gunning_fog'].mode())\n",
    "\n"
   ]
  },
  {
   "cell_type": "code",
   "execution_count": 5,
   "metadata": {},
   "outputs": [],
   "source": [
    "df['word_count']=df['description'].apply(lambda x: textstat.lexicon_count(x, removepunct=True))"
   ]
  },
  {
   "cell_type": "code",
   "execution_count": 6,
   "metadata": {},
   "outputs": [
    {
     "name": "stdout",
     "output_type": "stream",
     "text": [
      "Word Count of Descriptions: Mean 85.8066945363114\n",
      "Word Count of Descriptions: Min  0\n",
      "Word Count of Descriptions: Median 66.0\n",
      "Word Count of Descriptions: Max  1415\n"
     ]
    }
   ],
   "source": [
    "print('Word Count of Descriptions: Mean',df['word_count'].mean())\n",
    "print('Word Count of Descriptions: Min ',df['word_count'].min())\n",
    "print('Word Count of Descriptions: Median',df['word_count'].median())\n",
    "print('Word Count of Descriptions: Max ',df['word_count'].max())\n"
   ]
  },
  {
   "cell_type": "markdown",
   "metadata": {},
   "source": [
    "## Visualizations of Lexicon Word Count"
   ]
  },
  {
   "cell_type": "code",
   "execution_count": 7,
   "metadata": {},
   "outputs": [
    {
     "data": {
      "text/plain": [
       "(0.0, 20000.0)"
      ]
     },
     "execution_count": 7,
     "metadata": {},
     "output_type": "execute_result"
    },
    {
     "data": {
      "image/png": "[encoded data removed]",
      "text/plain": [
       "<Figure size 432x288 with 1 Axes>"
      ]
     },
     "metadata": {
      "needs_background": "light"
     },
     "output_type": "display_data"
    }
   ],
   "source": [
    "# An \"interface\" to matplotlib.axes.Axes.hist() method\n",
    "n, bins, patches = plt.hist(x=df['word_count'], bins='auto', color='#333333',\n",
    "                            alpha=0.7, rwidth=1)\n",
    "plt.grid(axis='y', alpha=0.75)\n",
    "plt.xlabel('Word Count')\n",
    "plt.ylabel('Records')\n",
    "plt.title('Histogram of Lexicon Word Count in Descriptions')\n",
    "# Set a clean upper y-axis limit.\n",
    "plt.ylim(ymax=20000)"
   ]
  },
  {
   "cell_type": "code",
   "execution_count": 8,
   "metadata": {},
   "outputs": [
    {
     "data": {
      "image/png": "[encoded data removed]",
      "text/plain": [
       "<Figure size 864x216 with 1 Axes>"
      ]
     },
     "metadata": {
      "needs_background": "light"
     },
     "output_type": "display_data"
    }
   ],
   "source": [
    "red_circle = dict(markerfacecolor='blue', marker='o', )\n",
    "mean_shape = dict(markerfacecolor='green', marker='D', markeredgecolor='green')\n",
    "plt.figure(figsize=(12,3))\n",
    "plt.boxplot(x=df['word_count'], vert=False, flierprops=red_circle, showmeans=True, meanprops=mean_shape)\n",
    "plt.xlabel('Word Count')\n",
    "plt.title('Boxplot of Lexicon Word Count in Descriptions')\n",
    "plt.show()"
   ]
  },
  {
   "cell_type": "code",
   "execution_count": 9,
   "metadata": {},
   "outputs": [
    {
     "name": "stdout",
     "output_type": "stream",
     "text": [
      "Mean Reading Time: Mean 7.179803854424767\n"
     ]
    }
   ],
   "source": [
    "df['reading_time']=df['description'].apply(lambda x: textstat.reading_time(x, ms_per_char=14.69))\n",
    "print('Mean Reading Time: Mean',df['reading_time'].mean())"
   ]
  },
  {
   "cell_type": "markdown",
   "metadata": {},
   "source": [
    "## Title EDA"
   ]
  },
  {
   "cell_type": "code",
   "execution_count": 10,
   "metadata": {},
   "outputs": [],
   "source": [
    "# Importing dataset\n",
    "df_title=pd.read_csv('/Users/hgardner/Desktop/toxicity/data/preprocessed_data/cat_title.csv')"
   ]
  },
  {
   "cell_type": "code",
   "execution_count": 11,
   "metadata": {},
   "outputs": [],
   "source": [
    "df_title['dale_chall_score']=df_title['title'].apply(lambda x: textstat.dale_chall_readability_score(x))\n",
    "df_title['flesch_reading_ease']=df_title['title'].apply(lambda x: textstat.flesch_reading_ease(x))\n",
    "df_title['word_count']=df_title['title'].apply(lambda x: textstat.lexicon_count(x, removepunct=True))\n",
    "df_title['reading_time']=df_title['title'].apply(lambda x: textstat.reading_time(x, ms_per_char=14.69))"
   ]
  },
  {
   "cell_type": "code",
   "execution_count": 12,
   "metadata": {},
   "outputs": [
    {
     "name": "stdout",
     "output_type": "stream",
     "text": [
      "Dale Chall Score : Mean 13.82108173483603\n",
      "Dale Chall Score: Min 0.0\n",
      "Dale Chall Score: Median 13.36\n",
      "Dale Chall Score: Max 161.59\n",
      "Flesch Reading Score: Mean 45.283108842110614\n",
      "Flesch Reading Score: Min -1147.79\n",
      "Flesch Reading Score: Median 50.5\n",
      "Flesch Reading Score: Max 206.84\n",
      "Word Count of Descriptions: Mean 8.581947359126282\n",
      "Word Count of Descriptions: Min  0\n",
      "Word Count of Descriptions: Median 6.0\n",
      "Word Count of Descriptions: Max  383\n",
      "Mean Reading Time: Mean 0.7278050127891331\n"
     ]
    }
   ],
   "source": [
    "print('Dale Chall Score : Mean',df_title['dale_chall_score'].mean())\n",
    "print('Dale Chall Score: Min',df_title['dale_chall_score'].min())\n",
    "print('Dale Chall Score: Median',df_title['dale_chall_score'].median())\n",
    "print('Dale Chall Score: Max',df_title['dale_chall_score'].max())\n",
    "\n",
    "print('Flesch Reading Score: Mean',df_title['flesch_reading_ease'].mean())\n",
    "print('Flesch Reading Score: Min',df_title['flesch_reading_ease'].min())\n",
    "print('Flesch Reading Score: Median',df_title['flesch_reading_ease'].median())\n",
    "print('Flesch Reading Score: Max',df_title['flesch_reading_ease'].max())\n",
    "\n",
    "print('Word Count of Descriptions: Mean',df_title['word_count'].mean())\n",
    "print('Word Count of Descriptions: Min ',df_title['word_count'].min())\n",
    "print('Word Count of Descriptions: Median',df_title['word_count'].median())\n",
    "print('Word Count of Descriptions: Max ',df_title['word_count'].max())\n",
    "\n",
    "print('Mean Reading Time: Mean',df_title['reading_time'].mean())"
   ]
  },
  {
   "cell_type": "code",
   "execution_count": 13,
   "metadata": {},
   "outputs": [
    {
     "name": "stdout",
     "output_type": "stream",
     "text": [
      "                         bibid  \\\n",
      "31489       (MiAaPQ)EBC4860829   \n",
      "470602   (CKB)5590000000557983   \n",
      "470604   (CKB)5590000000557985   \n",
      "470607   (CKB)5590000000557988   \n",
      "2114819     (YBPDDA)ebc4860829   \n",
      "4517870     (OCoLC)ocm34477177   \n",
      "\n",
      "                                                     title  \\\n",
      "31489              Deterritorializing/Reterritorializing :   \n",
      "470602   HTML:Mason:Component:run('HTML:Mason:Component...   \n",
      "470604   HTML:Mason:Component:run('HTML:Mason:Component...   \n",
      "470607   HTML:Mason:Component:run('HTML:Mason:Component...   \n",
      "2114819            Deterritorializing/reterritorializing :   \n",
      "4517870  Modest₋Witness@Second₋Millennium.FemaleMan₋Mee...   \n",
      "\n",
      "                                               clean_title  dale_chall_score  \\\n",
      "31489            ['deterritorializingreterritorializing ']             35.27   \n",
      "470602   ['htmlmasoncomponentrunhtmlmasoncomponentfileb...            114.22   \n",
      "470604   ['htmlmasoncomponentrunhtmlmasoncomponentfileb...            114.22   \n",
      "470607   ['htmlmasoncomponentrunhtmlmasoncomponentfileb...            114.22   \n",
      "2114819          ['deterritorializingreterritorializing ']             35.27   \n",
      "4517870  ['modest₋witnesssecond₋millenniumfemaleman₋mee...             98.43   \n",
      "\n",
      "         flesch_reading_ease  word_count  reading_time  \n",
      "31489               -1063.19           1          0.56  \n",
      "470602              -1147.79           1          1.15  \n",
      "470604              -1147.79           1          1.15  \n",
      "470607              -1147.79           1          1.15  \n",
      "2114819             -1063.19           1          0.56  \n",
      "4517870             -1147.79           1          0.87  \n"
     ]
    }
   ],
   "source": [
    "print(df_title[df_title.flesch_reading_ease < -1000])"
   ]
  },
  {
   "cell_type": "code",
   "execution_count": 14,
   "metadata": {},
   "outputs": [],
   "source": [
    "flesch_123 = df_title[df_title.flesch_reading_ease > 122]"
   ]
  },
  {
   "cell_type": "code",
   "execution_count": 15,
   "metadata": {},
   "outputs": [
    {
     "data": {
      "text/html": [
       "<div>\n",
       "<style scoped>\n",
       "    .dataframe tbody tr th:only-of-type {\n",
       "        vertical-align: middle;\n",
       "    }\n",
       "\n",
       "    .dataframe tbody tr th {\n",
       "        vertical-align: top;\n",
       "    }\n",
       "\n",
       "    .dataframe thead th {\n",
       "        text-align: right;\n",
       "    }\n",
       "</style>\n",
       "<table border=\"1\" class=\"dataframe\">\n",
       "  <thead>\n",
       "    <tr style=\"text-align: right;\">\n",
       "      <th></th>\n",
       "      <th>bibid</th>\n",
       "      <th>title</th>\n",
       "      <th>clean_title</th>\n",
       "      <th>dale_chall_score</th>\n",
       "      <th>flesch_reading_ease</th>\n",
       "      <th>word_count</th>\n",
       "      <th>reading_time</th>\n",
       "    </tr>\n",
       "  </thead>\n",
       "  <tbody>\n",
       "    <tr>\n",
       "      <th>246191</th>\n",
       "      <td>(CKB)5590000000551800</td>\n",
       "      <td>(((</td>\n",
       "      <td>['']</td>\n",
       "      <td>0.0</td>\n",
       "      <td>206.84</td>\n",
       "      <td>0</td>\n",
       "      <td>0.04</td>\n",
       "    </tr>\n",
       "    <tr>\n",
       "      <th>3429094</th>\n",
       "      <td>(OCoLC)ocm79446449</td>\n",
       "      <td>[ ... ] :</td>\n",
       "      <td>['   ']</td>\n",
       "      <td>0.0</td>\n",
       "      <td>206.84</td>\n",
       "      <td>0</td>\n",
       "      <td>0.09</td>\n",
       "    </tr>\n",
       "    <tr>\n",
       "      <th>3806519</th>\n",
       "      <td>(OCoLC)ocn150473513</td>\n",
       "      <td>&lt;&gt;.</td>\n",
       "      <td>['']</td>\n",
       "      <td>0.0</td>\n",
       "      <td>206.84</td>\n",
       "      <td>0</td>\n",
       "      <td>0.04</td>\n",
       "    </tr>\n",
       "    <tr>\n",
       "      <th>5122643</th>\n",
       "      <td>(OCoLC)ocm10054736</td>\n",
       "      <td>/</td>\n",
       "      <td>['']</td>\n",
       "      <td>0.0</td>\n",
       "      <td>206.84</td>\n",
       "      <td>0</td>\n",
       "      <td>0.01</td>\n",
       "    </tr>\n",
       "    <tr>\n",
       "      <th>5251525</th>\n",
       "      <td>(OCoLC)ocm07641126</td>\n",
       "      <td>;</td>\n",
       "      <td>['']</td>\n",
       "      <td>0.0</td>\n",
       "      <td>206.84</td>\n",
       "      <td>0</td>\n",
       "      <td>0.01</td>\n",
       "    </tr>\n",
       "  </tbody>\n",
       "</table>\n",
       "</div>"
      ],
      "text/plain": [
       "                         bibid      title clean_title  dale_chall_score  \\\n",
       "246191   (CKB)5590000000551800        (((        ['']               0.0   \n",
       "3429094     (OCoLC)ocm79446449  [ ... ] :     ['   ']               0.0   \n",
       "3806519    (OCoLC)ocn150473513        <>.        ['']               0.0   \n",
       "5122643     (OCoLC)ocm10054736          /        ['']               0.0   \n",
       "5251525     (OCoLC)ocm07641126          ;        ['']               0.0   \n",
       "\n",
       "         flesch_reading_ease  word_count  reading_time  \n",
       "246191                206.84           0          0.04  \n",
       "3429094               206.84           0          0.09  \n",
       "3806519               206.84           0          0.04  \n",
       "5122643               206.84           0          0.01  \n",
       "5251525               206.84           0          0.01  "
      ]
     },
     "execution_count": 15,
     "metadata": {},
     "output_type": "execute_result"
    }
   ],
   "source": [
    "flesch_123.head(50)"
   ]
  },
  {
   "cell_type": "code",
   "execution_count": 16,
   "metadata": {},
   "outputs": [
    {
     "data": {
      "text/plain": [
       "(0.0, 500000.0)"
      ]
     },
     "execution_count": 16,
     "metadata": {},
     "output_type": "execute_result"
    },
    {
     "data": {
      "image/png": "[encoded data removed]",
      "text/plain": [
       "<Figure size 432x288 with 1 Axes>"
      ]
     },
     "metadata": {
      "needs_background": "light"
     },
     "output_type": "display_data"
    }
   ],
   "source": [
    "#title histogram\n",
    "# An \"interface\" to matplotlib.axes.Axes.hist() method\n",
    "n, bins, patches = plt.hist(x=df_title['word_count'], bins=750, color='#333333',\n",
    "                            alpha=0.7, rwidth=1)\n",
    "plt.grid(axis='y', alpha=0.75)\n",
    "plt.xlabel('Word Count')\n",
    "plt.ylabel('Records')\n",
    "plt.title('Histogram of Lexicon Word Count in Titles')\n",
    "# Set a clean upper y-axis limit.\n",
    "plt.ylim(ymax=500000)"
   ]
  },
  {
   "cell_type": "code",
   "execution_count": 17,
   "metadata": {},
   "outputs": [
    {
     "data": {
      "image/png": "[encoded data removed]",
      "text/plain": [
       "<Figure size 864x216 with 1 Axes>"
      ]
     },
     "metadata": {
      "needs_background": "light"
     },
     "output_type": "display_data"
    }
   ],
   "source": [
    "#title box plot\n",
    "red_circle = dict(markerfacecolor='blue', marker='o', )\n",
    "mean_shape = dict(markerfacecolor='green', marker='D', markeredgecolor='green')\n",
    "plt.figure(figsize=(12,3))\n",
    "plt.boxplot(x=df_title['word_count'], vert=False, flierprops=red_circle, showmeans=True, meanprops=mean_shape)\n",
    "plt.xlabel('Word Count')\n",
    "plt.title('Boxplot of Lexicon Word Count in Titles')\n",
    "plt.show()"
   ]
  },
  {
   "cell_type": "code",
   "execution_count": null,
   "metadata": {},
   "outputs": [],
   "source": []
  },
  {
   "cell_type": "markdown",
   "metadata": {},
   "source": [
    "## Subject EDA"
   ]
  },
  {
   "cell_type": "code",
   "execution_count": 18,
   "metadata": {},
   "outputs": [],
   "source": [
    "df_sub = pd.read_csv('/Users/hgardner/Desktop/toxicity/data/parsed data files/raw_subject.csv')"
   ]
  },
  {
   "cell_type": "code",
   "execution_count": 19,
   "metadata": {},
   "outputs": [
    {
     "data": {
      "text/plain": [
       "(3022612, 2)"
      ]
     },
     "execution_count": 19,
     "metadata": {},
     "output_type": "execute_result"
    }
   ],
   "source": [
    "df_sub.shape"
   ]
  },
  {
   "cell_type": "code",
   "execution_count": 20,
   "metadata": {},
   "outputs": [
    {
     "data": {
      "text/html": [
       "<div>\n",
       "<style scoped>\n",
       "    .dataframe tbody tr th:only-of-type {\n",
       "        vertical-align: middle;\n",
       "    }\n",
       "\n",
       "    .dataframe tbody tr th {\n",
       "        vertical-align: top;\n",
       "    }\n",
       "\n",
       "    .dataframe thead th {\n",
       "        text-align: right;\n",
       "    }\n",
       "</style>\n",
       "<table border=\"1\" class=\"dataframe\">\n",
       "  <thead>\n",
       "    <tr style=\"text-align: right;\">\n",
       "      <th></th>\n",
       "      <th>bibid</th>\n",
       "      <th>subject</th>\n",
       "    </tr>\n",
       "  </thead>\n",
       "  <tbody>\n",
       "    <tr>\n",
       "      <th>0</th>\n",
       "      <td>(OCoLC)557588801</td>\n",
       "      <td>Astronomy.</td>\n",
       "    </tr>\n",
       "    <tr>\n",
       "      <th>1</th>\n",
       "      <td>(OCoLC)1256541466</td>\n",
       "      <td>Black people in art</td>\n",
       "    </tr>\n",
       "    <tr>\n",
       "      <th>2</th>\n",
       "      <td>(OCoLC)48418774</td>\n",
       "      <td>Cotton manufacture</td>\n",
       "    </tr>\n",
       "    <tr>\n",
       "      <th>3</th>\n",
       "      <td>(OCoLC)39033407</td>\n",
       "      <td>Cooking, American</td>\n",
       "    </tr>\n",
       "    <tr>\n",
       "      <th>4</th>\n",
       "      <td>(OCoLC)32911699</td>\n",
       "      <td>Rock musicians</td>\n",
       "    </tr>\n",
       "  </tbody>\n",
       "</table>\n",
       "</div>"
      ],
      "text/plain": [
       "               bibid              subject\n",
       "0   (OCoLC)557588801           Astronomy.\n",
       "1  (OCoLC)1256541466  Black people in art\n",
       "2    (OCoLC)48418774   Cotton manufacture\n",
       "3    (OCoLC)39033407    Cooking, American\n",
       "4    (OCoLC)32911699       Rock musicians"
      ]
     },
     "execution_count": 20,
     "metadata": {},
     "output_type": "execute_result"
    }
   ],
   "source": [
    "df_sub.head()"
   ]
  },
  {
   "cell_type": "code",
   "execution_count": 21,
   "metadata": {},
   "outputs": [
    {
     "name": "stdout",
     "output_type": "stream",
     "text": [
      "<class 'pandas.core.frame.DataFrame'>\n",
      "RangeIndex: 3022612 entries, 0 to 3022611\n",
      "Data columns (total 2 columns):\n",
      " #   Column   Dtype \n",
      "---  ------   ----- \n",
      " 0   bibid    object\n",
      " 1   subject  object\n",
      "dtypes: object(2)\n",
      "memory usage: 46.1+ MB\n"
     ]
    }
   ],
   "source": [
    "df_sub.info()"
   ]
  },
  {
   "cell_type": "code",
   "execution_count": 22,
   "metadata": {},
   "outputs": [
    {
     "data": {
      "text/plain": [
       "55.142663241775885"
      ]
     },
     "execution_count": 22,
     "metadata": {},
     "output_type": "execute_result"
    }
   ],
   "source": [
    "100*3022612/5481440"
   ]
  },
  {
   "cell_type": "code",
   "execution_count": 23,
   "metadata": {},
   "outputs": [
    {
     "data": {
      "text/plain": [
       "bibid      2948473\n",
       "subject     151392\n",
       "dtype: int64"
      ]
     },
     "execution_count": 23,
     "metadata": {},
     "output_type": "execute_result"
    }
   ],
   "source": [
    "df_sub.select_dtypes([object]).nunique()"
   ]
  },
  {
   "cell_type": "code",
   "execution_count": 24,
   "metadata": {},
   "outputs": [],
   "source": [
    "freq_table = pd.crosstab(index=df_sub[\"subject\"], columns=\"count\")"
   ]
  },
  {
   "cell_type": "code",
   "execution_count": 25,
   "metadata": {},
   "outputs": [
    {
     "data": {
      "text/html": [
       "<div>\n",
       "<style scoped>\n",
       "    .dataframe tbody tr th:only-of-type {\n",
       "        vertical-align: middle;\n",
       "    }\n",
       "\n",
       "    .dataframe tbody tr th {\n",
       "        vertical-align: top;\n",
       "    }\n",
       "\n",
       "    .dataframe thead th {\n",
       "        text-align: right;\n",
       "    }\n",
       "</style>\n",
       "<table border=\"1\" class=\"dataframe\">\n",
       "  <thead>\n",
       "    <tr style=\"text-align: right;\">\n",
       "      <th>col_0</th>\n",
       "      <th>count</th>\n",
       "    </tr>\n",
       "    <tr>\n",
       "      <th>subject</th>\n",
       "      <th></th>\n",
       "    </tr>\n",
       "  </thead>\n",
       "  <tbody>\n",
       "    <tr>\n",
       "      <th>\\tPsychoanalysis and literature.</th>\n",
       "      <td>1</td>\n",
       "    </tr>\n",
       "    <tr>\n",
       "      <th>Diplomatic and consular service, Spanish.</th>\n",
       "      <td>1</td>\n",
       "    </tr>\n",
       "    <tr>\n",
       "      <th>Monuments</th>\n",
       "      <td>1</td>\n",
       "    </tr>\n",
       "    <tr>\n",
       "      <th>Nilpotent Lie groups.</th>\n",
       "      <td>1</td>\n",
       "    </tr>\n",
       "    <tr>\n",
       "      <th>!Cu-cut!</th>\n",
       "      <td>1</td>\n",
       "    </tr>\n",
       "    <tr>\n",
       "      <th>...</th>\n",
       "      <td>...</td>\n",
       "    </tr>\n",
       "    <tr>\n",
       "      <th>ʻTsv (The Hebrew word)</th>\n",
       "      <td>1</td>\n",
       "    </tr>\n",
       "    <tr>\n",
       "      <th>ʼBrug-pa (Sect)</th>\n",
       "      <td>1</td>\n",
       "    </tr>\n",
       "    <tr>\n",
       "      <th>קריירה</th>\n",
       "      <td>1</td>\n",
       "    </tr>\n",
       "    <tr>\n",
       "      <th>Ḥoshen mishpaṭ.</th>\n",
       "      <td>1</td>\n",
       "    </tr>\n",
       "    <tr>\n",
       "      <th>中国 -- 歴史 -- 明時代</th>\n",
       "      <td>1</td>\n",
       "    </tr>\n",
       "  </tbody>\n",
       "</table>\n",
       "<p>151392 rows × 1 columns</p>\n",
       "</div>"
      ],
      "text/plain": [
       "col_0                                       count\n",
       "subject                                          \n",
       "\\tPsychoanalysis and literature.                1\n",
       " Diplomatic and consular service, Spanish.      1\n",
       " Monuments                                      1\n",
       " Nilpotent Lie groups.                          1\n",
       "!Cu-cut!                                        1\n",
       "...                                           ...\n",
       "ʻTsv (The Hebrew word)                          1\n",
       "ʼBrug-pa (Sect)                                 1\n",
       "קריירה                                          1\n",
       "Ḥoshen mishpaṭ.                                 1\n",
       "中国 -- 歴史 -- 明時代                                 1\n",
       "\n",
       "[151392 rows x 1 columns]"
      ]
     },
     "execution_count": 25,
     "metadata": {},
     "output_type": "execute_result"
    }
   ],
   "source": [
    "freq_table"
   ]
  },
  {
   "cell_type": "code",
   "execution_count": 26,
   "metadata": {},
   "outputs": [],
   "source": [
    "freq_table = freq_table.sort_values(by=\"count\", ascending=False)"
   ]
  },
  {
   "cell_type": "code",
   "execution_count": 27,
   "metadata": {},
   "outputs": [
    {
     "data": {
      "text/html": [
       "<div>\n",
       "<style scoped>\n",
       "    .dataframe tbody tr th:only-of-type {\n",
       "        vertical-align: middle;\n",
       "    }\n",
       "\n",
       "    .dataframe tbody tr th {\n",
       "        vertical-align: top;\n",
       "    }\n",
       "\n",
       "    .dataframe thead th {\n",
       "        text-align: right;\n",
       "    }\n",
       "</style>\n",
       "<table border=\"1\" class=\"dataframe\">\n",
       "  <thead>\n",
       "    <tr style=\"text-align: right;\">\n",
       "      <th>col_0</th>\n",
       "      <th>count</th>\n",
       "    </tr>\n",
       "    <tr>\n",
       "      <th>subject</th>\n",
       "      <th></th>\n",
       "    </tr>\n",
       "  </thead>\n",
       "  <tbody>\n",
       "    <tr>\n",
       "      <th>Law</th>\n",
       "      <td>17379</td>\n",
       "    </tr>\n",
       "    <tr>\n",
       "      <th>Indians of North America</th>\n",
       "      <td>15386</td>\n",
       "    </tr>\n",
       "    <tr>\n",
       "      <th>Women</th>\n",
       "      <td>12405</td>\n",
       "    </tr>\n",
       "    <tr>\n",
       "      <th>Geology</th>\n",
       "      <td>11621</td>\n",
       "    </tr>\n",
       "    <tr>\n",
       "      <th>Railroads</th>\n",
       "      <td>9856</td>\n",
       "    </tr>\n",
       "    <tr>\n",
       "      <th>Sermons, English</th>\n",
       "      <td>9580</td>\n",
       "    </tr>\n",
       "    <tr>\n",
       "      <th>Piano music.</th>\n",
       "      <td>8664</td>\n",
       "    </tr>\n",
       "    <tr>\n",
       "      <th>Education</th>\n",
       "      <td>7935</td>\n",
       "    </tr>\n",
       "    <tr>\n",
       "      <th>World War, 1939-1945</th>\n",
       "      <td>7863</td>\n",
       "    </tr>\n",
       "    <tr>\n",
       "      <th>Music</th>\n",
       "      <td>7824</td>\n",
       "    </tr>\n",
       "    <tr>\n",
       "      <th>English language</th>\n",
       "      <td>7802</td>\n",
       "    </tr>\n",
       "    <tr>\n",
       "      <th>African Americans</th>\n",
       "      <td>7796</td>\n",
       "    </tr>\n",
       "    <tr>\n",
       "      <th>Jews</th>\n",
       "      <td>7690</td>\n",
       "    </tr>\n",
       "    <tr>\n",
       "      <th>Taxation</th>\n",
       "      <td>7217</td>\n",
       "    </tr>\n",
       "    <tr>\n",
       "      <th>Operas</th>\n",
       "      <td>6661</td>\n",
       "    </tr>\n",
       "    <tr>\n",
       "      <th>Individual and Groups Rights</th>\n",
       "      <td>6586</td>\n",
       "    </tr>\n",
       "    <tr>\n",
       "      <th>Budget</th>\n",
       "      <td>6177</td>\n",
       "    </tr>\n",
       "    <tr>\n",
       "      <th>Wartime Conditions and Military Tactics</th>\n",
       "      <td>6001</td>\n",
       "    </tr>\n",
       "    <tr>\n",
       "      <th>Ballads, English</th>\n",
       "      <td>5901</td>\n",
       "    </tr>\n",
       "    <tr>\n",
       "      <th>English literature</th>\n",
       "      <td>5885</td>\n",
       "    </tr>\n",
       "    <tr>\n",
       "      <th>Missions</th>\n",
       "      <td>5616</td>\n",
       "    </tr>\n",
       "    <tr>\n",
       "      <th>Staging and Design</th>\n",
       "      <td>5521</td>\n",
       "    </tr>\n",
       "    <tr>\n",
       "      <th>Society of Friends</th>\n",
       "      <td>5513</td>\n",
       "    </tr>\n",
       "    <tr>\n",
       "      <th>Slavery</th>\n",
       "      <td>5487</td>\n",
       "    </tr>\n",
       "    <tr>\n",
       "      <th>American literature</th>\n",
       "      <td>5355</td>\n",
       "    </tr>\n",
       "    <tr>\n",
       "      <th>Symphonies.</th>\n",
       "      <td>5326</td>\n",
       "    </tr>\n",
       "    <tr>\n",
       "      <th>Archaeological surveying</th>\n",
       "      <td>5312</td>\n",
       "    </tr>\n",
       "    <tr>\n",
       "      <th>Presidents</th>\n",
       "      <td>5269</td>\n",
       "    </tr>\n",
       "    <tr>\n",
       "      <th>Science</th>\n",
       "      <td>5204</td>\n",
       "    </tr>\n",
       "    <tr>\n",
       "      <th>Operas.</th>\n",
       "      <td>5116</td>\n",
       "    </tr>\n",
       "    <tr>\n",
       "      <th>Agriculture</th>\n",
       "      <td>5003</td>\n",
       "    </tr>\n",
       "    <tr>\n",
       "      <th>Social and Cultural Life</th>\n",
       "      <td>4806</td>\n",
       "    </tr>\n",
       "    <tr>\n",
       "      <th>Christian life</th>\n",
       "      <td>4798</td>\n",
       "    </tr>\n",
       "    <tr>\n",
       "      <th>Organ music.</th>\n",
       "      <td>4684</td>\n",
       "    </tr>\n",
       "    <tr>\n",
       "      <th>Veterans</th>\n",
       "      <td>4512</td>\n",
       "    </tr>\n",
       "    <tr>\n",
       "      <th>Older people</th>\n",
       "      <td>4496</td>\n",
       "    </tr>\n",
       "    <tr>\n",
       "      <th>Art</th>\n",
       "      <td>4480</td>\n",
       "    </tr>\n",
       "    <tr>\n",
       "      <th>Christianity</th>\n",
       "      <td>4330</td>\n",
       "    </tr>\n",
       "    <tr>\n",
       "      <th>Small business</th>\n",
       "      <td>4322</td>\n",
       "    </tr>\n",
       "    <tr>\n",
       "      <th>Corrections</th>\n",
       "      <td>4287</td>\n",
       "    </tr>\n",
       "    <tr>\n",
       "      <th>World War, 1914-1918</th>\n",
       "      <td>4286</td>\n",
       "    </tr>\n",
       "    <tr>\n",
       "      <th>Medicine</th>\n",
       "      <td>4252</td>\n",
       "    </tr>\n",
       "    <tr>\n",
       "      <th>Church and state</th>\n",
       "      <td>4180</td>\n",
       "    </tr>\n",
       "    <tr>\n",
       "      <th>Groundwater</th>\n",
       "      <td>4025</td>\n",
       "    </tr>\n",
       "    <tr>\n",
       "      <th>Theology</th>\n",
       "      <td>3855</td>\n",
       "    </tr>\n",
       "    <tr>\n",
       "      <th>Motion pictures</th>\n",
       "      <td>3789</td>\n",
       "    </tr>\n",
       "    <tr>\n",
       "      <th>Church history</th>\n",
       "      <td>3724</td>\n",
       "    </tr>\n",
       "    <tr>\n",
       "      <th>Constitutional law</th>\n",
       "      <td>3592</td>\n",
       "    </tr>\n",
       "    <tr>\n",
       "      <th>Excavations (Archaeology)</th>\n",
       "      <td>3559</td>\n",
       "    </tr>\n",
       "    <tr>\n",
       "      <th>Banks and banking</th>\n",
       "      <td>3521</td>\n",
       "    </tr>\n",
       "  </tbody>\n",
       "</table>\n",
       "</div>"
      ],
      "text/plain": [
       "col_0                                    count\n",
       "subject                                       \n",
       "Law                                      17379\n",
       "Indians of North America                 15386\n",
       "Women                                    12405\n",
       "Geology                                  11621\n",
       "Railroads                                 9856\n",
       "Sermons, English                          9580\n",
       "Piano music.                              8664\n",
       "Education                                 7935\n",
       "World War, 1939-1945                      7863\n",
       "Music                                     7824\n",
       "English language                          7802\n",
       "African Americans                         7796\n",
       "Jews                                      7690\n",
       "Taxation                                  7217\n",
       "Operas                                    6661\n",
       "Individual and Groups Rights              6586\n",
       "Budget                                    6177\n",
       "Wartime Conditions and Military Tactics   6001\n",
       "Ballads, English                          5901\n",
       "English literature                        5885\n",
       "Missions                                  5616\n",
       "Staging and Design                        5521\n",
       "Society of Friends                        5513\n",
       "Slavery                                   5487\n",
       "American literature                       5355\n",
       "Symphonies.                               5326\n",
       "Archaeological surveying                  5312\n",
       "Presidents                                5269\n",
       "Science                                   5204\n",
       "Operas.                                   5116\n",
       "Agriculture                               5003\n",
       "Social and Cultural Life                  4806\n",
       "Christian life                            4798\n",
       "Organ music.                              4684\n",
       "Veterans                                  4512\n",
       "Older people                              4496\n",
       "Art                                       4480\n",
       "Christianity                              4330\n",
       "Small business                            4322\n",
       "Corrections                               4287\n",
       "World War, 1914-1918                      4286\n",
       "Medicine                                  4252\n",
       "Church and state                          4180\n",
       "Groundwater                               4025\n",
       "Theology                                  3855\n",
       "Motion pictures                           3789\n",
       "Church history                            3724\n",
       "Constitutional law                        3592\n",
       "Excavations (Archaeology)                 3559\n",
       "Banks and banking                         3521"
      ]
     },
     "execution_count": 27,
     "metadata": {},
     "output_type": "execute_result"
    }
   ],
   "source": [
    "#top 50 subject terms in the first term position\n",
    "freq_table.head(50)"
   ]
  },
  {
   "cell_type": "code",
   "execution_count": 28,
   "metadata": {},
   "outputs": [],
   "source": [
    "freq_table.reset_index(inplace=True)\n",
    "freq_table = freq_table.rename(columns = {'index':'new column name'})"
   ]
  },
  {
   "cell_type": "code",
   "execution_count": 29,
   "metadata": {},
   "outputs": [
    {
     "name": "stdout",
     "output_type": "stream",
     "text": [
      "<class 'pandas.core.frame.DataFrame'>\n",
      "RangeIndex: 151392 entries, 0 to 151391\n",
      "Data columns (total 2 columns):\n",
      " #   Column   Non-Null Count   Dtype \n",
      "---  ------   --------------   ----- \n",
      " 0   subject  151392 non-null  object\n",
      " 1   count    151392 non-null  int64 \n",
      "dtypes: int64(1), object(1)\n",
      "memory usage: 2.3+ MB\n"
     ]
    }
   ],
   "source": [
    "freq_table.info()"
   ]
  },
  {
   "cell_type": "code",
   "execution_count": 30,
   "metadata": {},
   "outputs": [
    {
     "name": "stderr",
     "output_type": "stream",
     "text": [
      "/var/folders/2g/1_zwfkdj3mvcdhj4kjs8zt3h0000gn/T/ipykernel_95515/4258922747.py:23: MatplotlibDeprecationWarning: The 'b' parameter of grid() has been renamed 'visible' since Matplotlib 3.5; support for the old name will be dropped two minor releases later.\n",
      "  ax.grid(b = True, color ='grey',\n"
     ]
    },
    {
     "data": {
      "image/png": "[encoded data removed]",
      "text/plain": [
       "<Figure size 576x864 with 1 Axes>"
      ]
     },
     "metadata": {
      "needs_background": "light"
     },
     "output_type": "display_data"
    }
   ],
   "source": [
    "\n",
    "subject = freq_table['subject'].head(25)\n",
    "freq_ct = freq_table['count'].head(25)\n",
    " \n",
    "# Figure Size\n",
    "fig, ax = plt.subplots(figsize =(8, 12))\n",
    " \n",
    "# Horizontal Bar Plot\n",
    "ax.barh(subject, freq_ct)\n",
    " \n",
    "# Remove axes splines\n",
    "for s in ['top', 'bottom', 'left', 'right']:\n",
    "    ax.spines[s].set_visible(False)\n",
    " \n",
    "# Remove x, y Ticks\n",
    "ax.xaxis.set_ticks_position('none')\n",
    "ax.yaxis.set_ticks_position('none')\n",
    " \n",
    "# Add padding between axes and labels\n",
    "ax.xaxis.set_tick_params(pad = 5)\n",
    "ax.yaxis.set_tick_params(pad = 10)\n",
    " \n",
    "# Add x, y gridlines\n",
    "ax.grid(b = True, color ='grey',\n",
    "        linestyle ='-.', linewidth = 0.5,\n",
    "        alpha = 0.2)\n",
    " \n",
    "# Show top values\n",
    "ax.invert_yaxis()\n",
    " \n",
    "# Add annotation to bars\n",
    "for i in ax.patches:\n",
    "    plt.text(i.get_width()+0.2, i.get_y()+0.5,\n",
    "             str(round((i.get_width()), 2)),\n",
    "             fontsize = 10,\n",
    "             color ='black')\n",
    " \n",
    "# Add Plot Title\n",
    "ax.set_title('Top 25 Topical Subject Headings in the First Position of MARC Record',\n",
    "             loc ='left', fontsize = 13 )\n",
    " \n",
    "# Show Plot\n",
    "plt.show()"
   ]
  },
  {
   "cell_type": "code",
   "execution_count": 31,
   "metadata": {},
   "outputs": [
    {
     "name": "stdout",
     "output_type": "stream",
     "text": [
      "203721\n"
     ]
    },
    {
     "data": {
      "text/plain": [
       "3.716559882074783"
      ]
     },
     "execution_count": 31,
     "metadata": {},
     "output_type": "execute_result"
    }
   ],
   "source": [
    "print(freq_ct.sum())\n",
    "(freq_ct.sum()/5481440)*100"
   ]
  },
  {
   "cell_type": "markdown",
   "metadata": {},
   "source": [
    "## Publication Date"
   ]
  },
  {
   "cell_type": "code",
   "execution_count": 32,
   "metadata": {},
   "outputs": [
    {
     "name": "stderr",
     "output_type": "stream",
     "text": [
      "<>:4: DeprecationWarning: invalid escape sequence \\d\n",
      "<>:4: DeprecationWarning: invalid escape sequence \\d\n",
      "/var/folders/2g/1_zwfkdj3mvcdhj4kjs8zt3h0000gn/T/ipykernel_95515/132339678.py:4: DeprecationWarning: invalid escape sequence \\d\n",
      "  df_pub['pubdate'] = df_pub['pubdate'].str.extract('(\\d+)', expand=False)\n"
     ]
    }
   ],
   "source": [
    "df_pub = pd.read_csv('/Users/hgardner/Desktop/toxicity/data/parsed data files/raw_pubdate.csv')\n",
    "\n",
    "#removing non-numeric characters\n",
    "df_pub['pubdate'] = df_pub['pubdate'].str.extract('(\\d+)', expand=False)\n",
    "\n",
    "#removing month and day where present\n",
    "df_pub['year'] = df_pub['pubdate'].str[:4]\n"
   ]
  },
  {
   "cell_type": "code",
   "execution_count": 33,
   "metadata": {},
   "outputs": [
    {
     "data": {
      "text/plain": [
       "5601"
      ]
     },
     "execution_count": 33,
     "metadata": {},
     "output_type": "execute_result"
    }
   ],
   "source": [
    "df_pub['pubdate'].isnull().sum()"
   ]
  },
  {
   "cell_type": "code",
   "execution_count": 34,
   "metadata": {},
   "outputs": [],
   "source": [
    "df_pub.dropna(inplace=True)\n"
   ]
  },
  {
   "cell_type": "code",
   "execution_count": 35,
   "metadata": {},
   "outputs": [
    {
     "data": {
      "text/html": [
       "<div>\n",
       "<style scoped>\n",
       "    .dataframe tbody tr th:only-of-type {\n",
       "        vertical-align: middle;\n",
       "    }\n",
       "\n",
       "    .dataframe tbody tr th {\n",
       "        vertical-align: top;\n",
       "    }\n",
       "\n",
       "    .dataframe thead th {\n",
       "        text-align: right;\n",
       "    }\n",
       "</style>\n",
       "<table border=\"1\" class=\"dataframe\">\n",
       "  <thead>\n",
       "    <tr style=\"text-align: right;\">\n",
       "      <th></th>\n",
       "      <th>bibid</th>\n",
       "      <th>pubdate</th>\n",
       "      <th>year</th>\n",
       "    </tr>\n",
       "  </thead>\n",
       "  <tbody>\n",
       "    <tr>\n",
       "      <th>0</th>\n",
       "      <td>(OCoLC)557588801</td>\n",
       "      <td>1828</td>\n",
       "      <td>1828</td>\n",
       "    </tr>\n",
       "    <tr>\n",
       "      <th>1</th>\n",
       "      <td>(OCoLC)13243571</td>\n",
       "      <td>1917</td>\n",
       "      <td>1917</td>\n",
       "    </tr>\n",
       "    <tr>\n",
       "      <th>2</th>\n",
       "      <td>(OCoLC)39033407</td>\n",
       "      <td>1998</td>\n",
       "      <td>1998</td>\n",
       "    </tr>\n",
       "    <tr>\n",
       "      <th>3</th>\n",
       "      <td>(OCoLC)32911699</td>\n",
       "      <td>1995</td>\n",
       "      <td>1995</td>\n",
       "    </tr>\n",
       "    <tr>\n",
       "      <th>4</th>\n",
       "      <td>(OCoLC)46476184</td>\n",
       "      <td>1881</td>\n",
       "      <td>1881</td>\n",
       "    </tr>\n",
       "  </tbody>\n",
       "</table>\n",
       "</div>"
      ],
      "text/plain": [
       "              bibid pubdate  year\n",
       "0  (OCoLC)557588801    1828  1828\n",
       "1   (OCoLC)13243571    1917  1917\n",
       "2   (OCoLC)39033407    1998  1998\n",
       "3   (OCoLC)32911699    1995  1995\n",
       "4   (OCoLC)46476184    1881  1881"
      ]
     },
     "execution_count": 35,
     "metadata": {},
     "output_type": "execute_result"
    }
   ],
   "source": [
    "df_pub.head()"
   ]
  },
  {
   "cell_type": "code",
   "execution_count": 36,
   "metadata": {},
   "outputs": [],
   "source": [
    "df_pub['year'] = df_pub['year'].astype(int)"
   ]
  },
  {
   "cell_type": "code",
   "execution_count": 37,
   "metadata": {},
   "outputs": [
    {
     "data": {
      "text/html": [
       "<div>\n",
       "<style scoped>\n",
       "    .dataframe tbody tr th:only-of-type {\n",
       "        vertical-align: middle;\n",
       "    }\n",
       "\n",
       "    .dataframe tbody tr th {\n",
       "        vertical-align: top;\n",
       "    }\n",
       "\n",
       "    .dataframe thead th {\n",
       "        text-align: right;\n",
       "    }\n",
       "</style>\n",
       "<table border=\"1\" class=\"dataframe\">\n",
       "  <thead>\n",
       "    <tr style=\"text-align: right;\">\n",
       "      <th></th>\n",
       "      <th>bibid</th>\n",
       "      <th>pubdate</th>\n",
       "      <th>year</th>\n",
       "    </tr>\n",
       "  </thead>\n",
       "  <tbody>\n",
       "    <tr>\n",
       "      <th>0</th>\n",
       "      <td>(OCoLC)557588801</td>\n",
       "      <td>1828</td>\n",
       "      <td>1828</td>\n",
       "    </tr>\n",
       "    <tr>\n",
       "      <th>1</th>\n",
       "      <td>(OCoLC)13243571</td>\n",
       "      <td>1917</td>\n",
       "      <td>1917</td>\n",
       "    </tr>\n",
       "    <tr>\n",
       "      <th>2</th>\n",
       "      <td>(OCoLC)39033407</td>\n",
       "      <td>1998</td>\n",
       "      <td>1998</td>\n",
       "    </tr>\n",
       "    <tr>\n",
       "      <th>3</th>\n",
       "      <td>(OCoLC)32911699</td>\n",
       "      <td>1995</td>\n",
       "      <td>1995</td>\n",
       "    </tr>\n",
       "    <tr>\n",
       "      <th>4</th>\n",
       "      <td>(OCoLC)46476184</td>\n",
       "      <td>1881</td>\n",
       "      <td>1881</td>\n",
       "    </tr>\n",
       "    <tr>\n",
       "      <th>5</th>\n",
       "      <td>(OCoLC)14013404</td>\n",
       "      <td>1901</td>\n",
       "      <td>1901</td>\n",
       "    </tr>\n",
       "    <tr>\n",
       "      <th>6</th>\n",
       "      <td>(OCoLC)49300690</td>\n",
       "      <td>2002</td>\n",
       "      <td>2002</td>\n",
       "    </tr>\n",
       "    <tr>\n",
       "      <th>7</th>\n",
       "      <td>(OCoLC)48557504</td>\n",
       "      <td>2002</td>\n",
       "      <td>2002</td>\n",
       "    </tr>\n",
       "    <tr>\n",
       "      <th>8</th>\n",
       "      <td>(OCoLC)47192114</td>\n",
       "      <td>2001</td>\n",
       "      <td>2001</td>\n",
       "    </tr>\n",
       "    <tr>\n",
       "      <th>9</th>\n",
       "      <td>(OCoLC)1039917548</td>\n",
       "      <td>2012</td>\n",
       "      <td>2012</td>\n",
       "    </tr>\n",
       "    <tr>\n",
       "      <th>10</th>\n",
       "      <td>(OCoLC)1330435012</td>\n",
       "      <td>2010</td>\n",
       "      <td>2010</td>\n",
       "    </tr>\n",
       "    <tr>\n",
       "      <th>11</th>\n",
       "      <td>(OCoLC)841171518</td>\n",
       "      <td>2013</td>\n",
       "      <td>2013</td>\n",
       "    </tr>\n",
       "    <tr>\n",
       "      <th>12</th>\n",
       "      <td>(OCoLC)43475601</td>\n",
       "      <td>1986</td>\n",
       "      <td>1986</td>\n",
       "    </tr>\n",
       "    <tr>\n",
       "      <th>13</th>\n",
       "      <td>(OCoLC)44961579</td>\n",
       "      <td>1988</td>\n",
       "      <td>1988</td>\n",
       "    </tr>\n",
       "    <tr>\n",
       "      <th>14</th>\n",
       "      <td>(OCoLC)45843586</td>\n",
       "      <td>1999</td>\n",
       "      <td>1999</td>\n",
       "    </tr>\n",
       "    <tr>\n",
       "      <th>15</th>\n",
       "      <td>(OCoLC)64549389</td>\n",
       "      <td>2006</td>\n",
       "      <td>2006</td>\n",
       "    </tr>\n",
       "    <tr>\n",
       "      <th>16</th>\n",
       "      <td>(OCoLC)654658286</td>\n",
       "      <td>2006</td>\n",
       "      <td>2006</td>\n",
       "    </tr>\n",
       "    <tr>\n",
       "      <th>17</th>\n",
       "      <td>(OCoLC)759907747</td>\n",
       "      <td>2011</td>\n",
       "      <td>2011</td>\n",
       "    </tr>\n",
       "    <tr>\n",
       "      <th>18</th>\n",
       "      <td>(OCoLC)769344367</td>\n",
       "      <td>2011</td>\n",
       "      <td>2011</td>\n",
       "    </tr>\n",
       "    <tr>\n",
       "      <th>19</th>\n",
       "      <td>(DE-599)ZDB1473050 9</td>\n",
       "      <td>1933</td>\n",
       "      <td>1933</td>\n",
       "    </tr>\n",
       "    <tr>\n",
       "      <th>20</th>\n",
       "      <td>(CKB)2670000000271952</td>\n",
       "      <td>2012</td>\n",
       "      <td>2012</td>\n",
       "    </tr>\n",
       "    <tr>\n",
       "      <th>21</th>\n",
       "      <td>(YBPDDA)ebc1992442</td>\n",
       "      <td>2012</td>\n",
       "      <td>2012</td>\n",
       "    </tr>\n",
       "    <tr>\n",
       "      <th>22</th>\n",
       "      <td>(YBPDDA)ebc29289866</td>\n",
       "      <td>2022</td>\n",
       "      <td>2022</td>\n",
       "    </tr>\n",
       "    <tr>\n",
       "      <th>23</th>\n",
       "      <td>(YBPDDA)ebc6933471</td>\n",
       "      <td>2022</td>\n",
       "      <td>2022</td>\n",
       "    </tr>\n",
       "    <tr>\n",
       "      <th>24</th>\n",
       "      <td>(YBPDDA)ebs3287713</td>\n",
       "      <td>2022</td>\n",
       "      <td>2022</td>\n",
       "    </tr>\n",
       "    <tr>\n",
       "      <th>25</th>\n",
       "      <td>(YBPDDA)ebs3294959</td>\n",
       "      <td>2022</td>\n",
       "      <td>2022</td>\n",
       "    </tr>\n",
       "    <tr>\n",
       "      <th>26</th>\n",
       "      <td>(YBPDDA)ebs3296398</td>\n",
       "      <td>2022</td>\n",
       "      <td>2022</td>\n",
       "    </tr>\n",
       "    <tr>\n",
       "      <th>27</th>\n",
       "      <td>(YBPDDA)ebs3292448</td>\n",
       "      <td>2022</td>\n",
       "      <td>2022</td>\n",
       "    </tr>\n",
       "    <tr>\n",
       "      <th>28</th>\n",
       "      <td>(YBPDDA)ebs3292450</td>\n",
       "      <td>2022</td>\n",
       "      <td>2022</td>\n",
       "    </tr>\n",
       "    <tr>\n",
       "      <th>29</th>\n",
       "      <td>(YBPDDA)ebs3292453</td>\n",
       "      <td>2022</td>\n",
       "      <td>2022</td>\n",
       "    </tr>\n",
       "    <tr>\n",
       "      <th>30</th>\n",
       "      <td>(OCoLC)1183834397</td>\n",
       "      <td>2020</td>\n",
       "      <td>2020</td>\n",
       "    </tr>\n",
       "    <tr>\n",
       "      <th>31</th>\n",
       "      <td>(OCoLC)957655930</td>\n",
       "      <td>2016</td>\n",
       "      <td>2016</td>\n",
       "    </tr>\n",
       "    <tr>\n",
       "      <th>32</th>\n",
       "      <td>(OCoLC)1139151595</td>\n",
       "      <td>2019</td>\n",
       "      <td>2019</td>\n",
       "    </tr>\n",
       "    <tr>\n",
       "      <th>33</th>\n",
       "      <td>(OCoLC)956520869</td>\n",
       "      <td>2016</td>\n",
       "      <td>2016</td>\n",
       "    </tr>\n",
       "    <tr>\n",
       "      <th>34</th>\n",
       "      <td>(OCoLC)1152281636</td>\n",
       "      <td>2019</td>\n",
       "      <td>2019</td>\n",
       "    </tr>\n",
       "    <tr>\n",
       "      <th>35</th>\n",
       "      <td>(OCoLC)1140013425</td>\n",
       "      <td>2020</td>\n",
       "      <td>2020</td>\n",
       "    </tr>\n",
       "    <tr>\n",
       "      <th>36</th>\n",
       "      <td>(OCoLC)958455783</td>\n",
       "      <td>2016</td>\n",
       "      <td>2016</td>\n",
       "    </tr>\n",
       "    <tr>\n",
       "      <th>37</th>\n",
       "      <td>(OCoLC)1140423938</td>\n",
       "      <td>2020</td>\n",
       "      <td>2020</td>\n",
       "    </tr>\n",
       "    <tr>\n",
       "      <th>38</th>\n",
       "      <td>(OCoLC)958455585</td>\n",
       "      <td>2016</td>\n",
       "      <td>2016</td>\n",
       "    </tr>\n",
       "    <tr>\n",
       "      <th>39</th>\n",
       "      <td>(OCoLC)859687676</td>\n",
       "      <td>2013</td>\n",
       "      <td>2013</td>\n",
       "    </tr>\n",
       "    <tr>\n",
       "      <th>40</th>\n",
       "      <td>(OCoLC)821725631</td>\n",
       "      <td>2012</td>\n",
       "      <td>2012</td>\n",
       "    </tr>\n",
       "    <tr>\n",
       "      <th>41</th>\n",
       "      <td>(OCoLC)809317651</td>\n",
       "      <td>2012</td>\n",
       "      <td>2012</td>\n",
       "    </tr>\n",
       "    <tr>\n",
       "      <th>42</th>\n",
       "      <td>(OCoLC)863824777</td>\n",
       "      <td>2013</td>\n",
       "      <td>2013</td>\n",
       "    </tr>\n",
       "    <tr>\n",
       "      <th>43</th>\n",
       "      <td>(OCoLC)1225550756</td>\n",
       "      <td>2020</td>\n",
       "      <td>2020</td>\n",
       "    </tr>\n",
       "    <tr>\n",
       "      <th>44</th>\n",
       "      <td>(OCoLC)1236261256</td>\n",
       "      <td>2021</td>\n",
       "      <td>2021</td>\n",
       "    </tr>\n",
       "    <tr>\n",
       "      <th>45</th>\n",
       "      <td>(OCoLC)805418933</td>\n",
       "      <td>2012</td>\n",
       "      <td>2012</td>\n",
       "    </tr>\n",
       "    <tr>\n",
       "      <th>46</th>\n",
       "      <td>(OCoLC)1225551609</td>\n",
       "      <td>2020</td>\n",
       "      <td>2020</td>\n",
       "    </tr>\n",
       "    <tr>\n",
       "      <th>47</th>\n",
       "      <td>(OCoLC)1237863945</td>\n",
       "      <td>2021</td>\n",
       "      <td>2021</td>\n",
       "    </tr>\n",
       "    <tr>\n",
       "      <th>48</th>\n",
       "      <td>(OCoLC)1239991805</td>\n",
       "      <td>2021</td>\n",
       "      <td>2021</td>\n",
       "    </tr>\n",
       "    <tr>\n",
       "      <th>49</th>\n",
       "      <td>(OCoLC)872695599</td>\n",
       "      <td>2013</td>\n",
       "      <td>2013</td>\n",
       "    </tr>\n",
       "  </tbody>\n",
       "</table>\n",
       "</div>"
      ],
      "text/plain": [
       "                    bibid pubdate  year\n",
       "0        (OCoLC)557588801    1828  1828\n",
       "1         (OCoLC)13243571    1917  1917\n",
       "2         (OCoLC)39033407    1998  1998\n",
       "3         (OCoLC)32911699    1995  1995\n",
       "4         (OCoLC)46476184    1881  1881\n",
       "5         (OCoLC)14013404    1901  1901\n",
       "6         (OCoLC)49300690    2002  2002\n",
       "7         (OCoLC)48557504    2002  2002\n",
       "8         (OCoLC)47192114    2001  2001\n",
       "9       (OCoLC)1039917548    2012  2012\n",
       "10      (OCoLC)1330435012    2010  2010\n",
       "11       (OCoLC)841171518    2013  2013\n",
       "12        (OCoLC)43475601    1986  1986\n",
       "13        (OCoLC)44961579    1988  1988\n",
       "14        (OCoLC)45843586    1999  1999\n",
       "15        (OCoLC)64549389    2006  2006\n",
       "16       (OCoLC)654658286    2006  2006\n",
       "17       (OCoLC)759907747    2011  2011\n",
       "18       (OCoLC)769344367    2011  2011\n",
       "19   (DE-599)ZDB1473050 9    1933  1933\n",
       "20  (CKB)2670000000271952    2012  2012\n",
       "21     (YBPDDA)ebc1992442    2012  2012\n",
       "22    (YBPDDA)ebc29289866    2022  2022\n",
       "23     (YBPDDA)ebc6933471    2022  2022\n",
       "24     (YBPDDA)ebs3287713    2022  2022\n",
       "25     (YBPDDA)ebs3294959    2022  2022\n",
       "26     (YBPDDA)ebs3296398    2022  2022\n",
       "27     (YBPDDA)ebs3292448    2022  2022\n",
       "28     (YBPDDA)ebs3292450    2022  2022\n",
       "29     (YBPDDA)ebs3292453    2022  2022\n",
       "30      (OCoLC)1183834397    2020  2020\n",
       "31       (OCoLC)957655930    2016  2016\n",
       "32      (OCoLC)1139151595    2019  2019\n",
       "33       (OCoLC)956520869    2016  2016\n",
       "34      (OCoLC)1152281636    2019  2019\n",
       "35      (OCoLC)1140013425    2020  2020\n",
       "36       (OCoLC)958455783    2016  2016\n",
       "37      (OCoLC)1140423938    2020  2020\n",
       "38       (OCoLC)958455585    2016  2016\n",
       "39       (OCoLC)859687676    2013  2013\n",
       "40       (OCoLC)821725631    2012  2012\n",
       "41       (OCoLC)809317651    2012  2012\n",
       "42       (OCoLC)863824777    2013  2013\n",
       "43      (OCoLC)1225550756    2020  2020\n",
       "44      (OCoLC)1236261256    2021  2021\n",
       "45       (OCoLC)805418933    2012  2012\n",
       "46      (OCoLC)1225551609    2020  2020\n",
       "47      (OCoLC)1237863945    2021  2021\n",
       "48      (OCoLC)1239991805    2021  2021\n",
       "49       (OCoLC)872695599    2013  2013"
      ]
     },
     "execution_count": 37,
     "metadata": {},
     "output_type": "execute_result"
    }
   ],
   "source": [
    "#sanity check\n",
    "df_pub.head(50)"
   ]
  },
  {
   "cell_type": "code",
   "execution_count": 38,
   "metadata": {},
   "outputs": [],
   "source": [
    "year_table = pd.crosstab(index=df_pub[\"year\"], columns=\"count\")\n",
    "year_table.reset_index(inplace=True)\n"
   ]
  },
  {
   "cell_type": "code",
   "execution_count": 39,
   "metadata": {},
   "outputs": [],
   "source": [
    "year_table = year_table.sort_values(by=\"count\", ascending=False)"
   ]
  },
  {
   "cell_type": "code",
   "execution_count": 40,
   "metadata": {},
   "outputs": [
    {
     "name": "stdout",
     "output_type": "stream",
     "text": [
      "<class 'pandas.core.frame.DataFrame'>\n",
      "Int64Index: 1091 entries, 922 to 1090\n",
      "Data columns (total 2 columns):\n",
      " #   Column  Non-Null Count  Dtype\n",
      "---  ------  --------------  -----\n",
      " 0   year    1091 non-null   int64\n",
      " 1   count   1091 non-null   int64\n",
      "dtypes: int64(2)\n",
      "memory usage: 25.6 KB\n"
     ]
    }
   ],
   "source": [
    "year_table.info()"
   ]
  },
  {
   "cell_type": "code",
   "execution_count": 41,
   "metadata": {},
   "outputs": [
    {
     "data": {
      "text/html": [
       "<div>\n",
       "<style scoped>\n",
       "    .dataframe tbody tr th:only-of-type {\n",
       "        vertical-align: middle;\n",
       "    }\n",
       "\n",
       "    .dataframe tbody tr th {\n",
       "        vertical-align: top;\n",
       "    }\n",
       "\n",
       "    .dataframe thead th {\n",
       "        text-align: right;\n",
       "    }\n",
       "</style>\n",
       "<table border=\"1\" class=\"dataframe\">\n",
       "  <thead>\n",
       "    <tr style=\"text-align: right;\">\n",
       "      <th>col_0</th>\n",
       "      <th>year</th>\n",
       "      <th>count</th>\n",
       "    </tr>\n",
       "  </thead>\n",
       "  <tbody>\n",
       "    <tr>\n",
       "      <th>922</th>\n",
       "      <td>2000</td>\n",
       "      <td>45402</td>\n",
       "    </tr>\n",
       "    <tr>\n",
       "      <th>921</th>\n",
       "      <td>1999</td>\n",
       "      <td>44837</td>\n",
       "    </tr>\n",
       "    <tr>\n",
       "      <th>920</th>\n",
       "      <td>1998</td>\n",
       "      <td>43199</td>\n",
       "    </tr>\n",
       "    <tr>\n",
       "      <th>932</th>\n",
       "      <td>2010</td>\n",
       "      <td>42382</td>\n",
       "    </tr>\n",
       "    <tr>\n",
       "      <th>929</th>\n",
       "      <td>2007</td>\n",
       "      <td>41620</td>\n",
       "    </tr>\n",
       "  </tbody>\n",
       "</table>\n",
       "</div>"
      ],
      "text/plain": [
       "col_0  year  count\n",
       "922    2000  45402\n",
       "921    1999  44837\n",
       "920    1998  43199\n",
       "932    2010  42382\n",
       "929    2007  41620"
      ]
     },
     "execution_count": 41,
     "metadata": {},
     "output_type": "execute_result"
    }
   ],
   "source": [
    "year_table.head()"
   ]
  },
  {
   "cell_type": "code",
   "execution_count": 42,
   "metadata": {},
   "outputs": [
    {
     "name": "stderr",
     "output_type": "stream",
     "text": [
      "/var/folders/2g/1_zwfkdj3mvcdhj4kjs8zt3h0000gn/T/ipykernel_95515/4057432388.py:23: MatplotlibDeprecationWarning: The 'b' parameter of grid() has been renamed 'visible' since Matplotlib 3.5; support for the old name will be dropped two minor releases later.\n",
      "  ax.grid(b = True, color ='grey',\n"
     ]
    },
    {
     "data": {
      "image/png": "[encoded data removed]",
      "text/plain": [
       "<Figure size 576x864 with 1 Axes>"
      ]
     },
     "metadata": {
      "needs_background": "light"
     },
     "output_type": "display_data"
    }
   ],
   "source": [
    "year = year_table['year'].head(25)\n",
    "yr_freq_ct = year_table['count'].head(25)\n",
    " \n",
    "# Figure Size\n",
    "fig, ax = plt.subplots(figsize =(8, 12))\n",
    " \n",
    "# Horizontal Bar Plot\n",
    "ax.barh(year, yr_freq_ct)\n",
    " \n",
    "# Remove axes splines\n",
    "for s in ['top', 'bottom', 'left', 'right']:\n",
    "    ax.spines[s].set_visible(False)\n",
    " \n",
    "# Remove x, y Ticks\n",
    "ax.xaxis.set_ticks_position('none')\n",
    "ax.yaxis.set_ticks_position('none')\n",
    " \n",
    "# Add padding between axes and labels\n",
    "ax.xaxis.set_tick_params(pad = 5)\n",
    "ax.yaxis.set_tick_params(pad = 10)\n",
    " \n",
    "# Add x, y gridlines\n",
    "ax.grid(b = True, color ='grey',\n",
    "        linestyle ='-.', linewidth = 0.5,\n",
    "        alpha = 0.2)\n",
    " \n",
    "# Show top values\n",
    "ax.invert_yaxis()\n",
    " \n",
    "# Add annotation to bars\n",
    "for i in ax.patches:\n",
    "    plt.text(i.get_width()+0.2, i.get_y()+0.5,\n",
    "             str(round((i.get_width()), 2)),\n",
    "             fontsize = 10,\n",
    "             color ='black')\n",
    " \n",
    "# Add Plot Title\n",
    "ax.set_title('Top 25 Publication Years in the MARC records',\n",
    "             loc ='left', fontsize = 13 )\n",
    " \n",
    "# Show Plot\n",
    "plt.show()"
   ]
  },
  {
   "cell_type": "code",
   "execution_count": 43,
   "metadata": {},
   "outputs": [],
   "source": [
    "year_table['year'] = year_table['year'].astype(int)"
   ]
  },
  {
   "cell_type": "code",
   "execution_count": 44,
   "metadata": {},
   "outputs": [],
   "source": [
    "year_table = year_table.sort_values(by=\"year\", ascending=True)"
   ]
  },
  {
   "cell_type": "code",
   "execution_count": 45,
   "metadata": {},
   "outputs": [
    {
     "data": {
      "image/png": "[encoded data removed]",
      "text/plain": [
       "<Figure size 1152x864 with 1 Axes>"
      ]
     },
     "metadata": {
      "needs_background": "light"
     },
     "output_type": "display_data"
    }
   ],
   "source": [
    "# Make a random dataset:\n",
    "height = year_table['count']\n",
    "bars = year_table['year']\n",
    "y_pos = np.arange(len(bars))\n",
    "# Figure Size\n",
    "fig, ax = plt.subplots(figsize =(16, 12))\n",
    "\n",
    "# Create bars\n",
    "plt.bar(y_pos, height)\n",
    "\n",
    "# Create names on the x-axis\n",
    "plt.xticks(y_pos, bars)\n",
    "\n",
    "# Show graphic\n",
    "plt.show()"
   ]
  },
  {
   "cell_type": "code",
   "execution_count": 55,
   "metadata": {},
   "outputs": [],
   "source": [
    "df_pub['year'] = df_pub['year'].astype(int)\n",
    "df_pub = df_pub.sort_values(by='year', ascending=True)"
   ]
  },
  {
   "cell_type": "code",
   "execution_count": 60,
   "metadata": {},
   "outputs": [
    {
     "data": {
      "image/png": "[encoded data removed]",
      "text/plain": [
       "<Figure size 864x432 with 1 Axes>"
      ]
     },
     "metadata": {
      "needs_background": "light"
     },
     "output_type": "display_data"
    }
   ],
   "source": [
    "# An \"interface\" to matplotlib.axes.Axes.hist() method\n",
    "# Figure Size\n",
    "df_pub2 = df_pub.loc[df_pub['year'] > 1400]\n",
    "fig, ax = plt.subplots(figsize =(12, 6))\n",
    "n, bins, patches = plt.hist(x=df_pub2['year'], bins=2000, color='#333333',\n",
    "                            alpha=0.7, rwidth=1)\n",
    "\n",
    "plt.grid(axis='y', alpha=0.75)\n",
    "plt.xlabel('Year Published')\n",
    "plt.ylabel('Record Count')\n",
    "# Add Plot Title\n",
    "ax.set_title('Histogram of Frequency of Publication Year',\n",
    "             loc ='center', fontsize = 16, fontweight='bold')\n",
    "# Set a clean upper y-axis limit.\n",
    "plt.ylim(ymax=215000)\n",
    "plt.xlim(1400,2050)\n",
    "\n",
    "every_nth = 50\n",
    "for n, label in enumerate(ax.xaxis.get_ticklabels()):\n",
    "    if n % every_nth != 0:\n",
    "        label.set_visible(True)"
   ]
  },
  {
   "cell_type": "code",
   "execution_count": 64,
   "metadata": {},
   "outputs": [
    {
     "data": {
      "text/plain": [
       "25.0"
      ]
     },
     "execution_count": 64,
     "metadata": {},
     "output_type": "execute_result"
    }
   ],
   "source": [
    "600/24\n"
   ]
  }
 ],
 "metadata": {
  "kernelspec": {
   "display_name": "Python 3.9.12 ('base')",
   "language": "python",
   "name": "python3"
  },
  "language_info": {
   "codemirror_mode": {
    "name": "ipython",
    "version": 3
   },
   "file_extension": ".py",
   "mimetype": "text/x-python",
   "name": "python",
   "nbconvert_exporter": "python",
   "pygments_lexer": "ipython3",
   "version": "3.9.12"
  },
  "orig_nbformat": 4,
  "vscode": {
   "interpreter": {
    "hash": "40d3a090f54c6569ab1632332b64b2c03c39dcf918b08424e98f38b5ae0af88f"
   }
  }
 },
 "nbformat": 4,
 "nbformat_minor": 2
}
