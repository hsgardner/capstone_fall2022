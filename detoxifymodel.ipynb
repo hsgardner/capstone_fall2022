{
 "cells": [
  {
   "cell_type": "code",
   "execution_count": 24,
   "metadata": {},
   "outputs": [],
   "source": [
    "#model\n",
    "from detoxify import Detoxify\n",
    "\n",
    "#general\n",
    "import pandas as pd\n",
    "\n",
    "#data import\n",
    "import os\n",
    "os.getcwd()\n",
    "\n",
    "#regular expressions\n",
    "import re\n",
    "\n",
    "#handling string\n",
    "import string\n",
    "\n",
    "from tqdm import tqdm"
   ]
  },
  {
   "cell_type": "code",
   "execution_count": 13,
   "metadata": {},
   "outputs": [],
   "source": [
    "df = pd.read_csv('/Users/hgardner/Desktop/toxicity/data/preprocessed_data/cat_title.csv')"
   ]
  },
  {
   "cell_type": "code",
   "execution_count": 14,
   "metadata": {},
   "outputs": [],
   "source": [
    "df1 = df.iloc[:500000]\n",
    "df2 = df.iloc[500000:1000000]\n",
    "df3 = df.iloc[1000000:1500000]\n",
    "df4 = df.iloc[1500000:2000000]\n",
    "df5 = df.iloc[2000000:2500000]\n",
    "df6 = df.iloc[2500000:3000000]\n",
    "df7 = df.iloc[3000000:3500000]\n",
    "df8 = df.iloc[3500000:4000000]\n",
    "df7 = df.iloc[4000000:4500000]\n",
    "df8 = df.iloc[4500000:5000000]\n",
    "df9 = df.iloc[5000000:]"
   ]
  },
  {
   "cell_type": "code",
   "execution_count": 16,
   "metadata": {},
   "outputs": [],
   "source": [
    "model = Detoxify('multilingual',device='cpu')\n",
    "tqdm.pandas()"
   ]
  },
  {
   "cell_type": "code",
   "execution_count": 18,
   "metadata": {},
   "outputs": [
    {
     "name": "stderr",
     "output_type": "stream",
     "text": [
      "100%|██████████| 1000/1000 [02:07<00:00,  7.86it/s]\n",
      "/var/folders/2g/1_zwfkdj3mvcdhj4kjs8zt3h0000gn/T/ipykernel_4274/1494228640.py:1: SettingWithCopyWarning: \n",
      "A value is trying to be set on a copy of a slice from a DataFrame.\n",
      "Try using .loc[row_indexer,col_indexer] = value instead\n",
      "\n",
      "See the caveats in the documentation: https://pandas.pydata.org/pandas-docs/stable/user_guide/indexing.html#returning-a-view-versus-a-copy\n",
      "  df1['score'] = df1['clean_title'].progress_map(lambda line: model.predict(line)['toxicity'])\n"
     ]
    }
   ],
   "source": [
    "df1['score'] = df1['clean_title'].progress_map(lambda line: model.predict(line)['toxicity'])"
   ]
  },
  {
   "cell_type": "code",
   "execution_count": 21,
   "metadata": {},
   "outputs": [
    {
     "name": "stderr",
     "output_type": "stream",
     "text": [
      "100%|██████████| 1000/1000 [02:07<00:00,  7.87it/s]\n",
      "/var/folders/2g/1_zwfkdj3mvcdhj4kjs8zt3h0000gn/T/ipykernel_4274/1831549195.py:1: SettingWithCopyWarning: \n",
      "A value is trying to be set on a copy of a slice from a DataFrame.\n",
      "Try using .loc[row_indexer,col_indexer] = value instead\n",
      "\n",
      "See the caveats in the documentation: https://pandas.pydata.org/pandas-docs/stable/user_guide/indexing.html#returning-a-view-versus-a-copy\n",
      "  df1['id_attack_score'] = df1['clean_title'].progress_map(lambda line: model.predict(line)['identity_attack'])\n"
     ]
    }
   ],
   "source": [
    "df1['id_attack_score'] = df1['clean_title'].progress_map(lambda line: model.predict(line)['identity_attack'])"
   ]
  },
  {
   "cell_type": "code",
   "execution_count": null,
   "metadata": {},
   "outputs": [],
   "source": []
  }
 ],
 "metadata": {
  "kernelspec": {
   "display_name": "Python 3.9.12 ('base')",
   "language": "python",
   "name": "python3"
  },
  "language_info": {
   "codemirror_mode": {
    "name": "ipython",
    "version": 3
   },
   "file_extension": ".py",
   "mimetype": "text/x-python",
   "name": "python",
   "nbconvert_exporter": "python",
   "pygments_lexer": "ipython3",
   "version": "3.9.12"
  },
  "orig_nbformat": 4,
  "vscode": {
   "interpreter": {
    "hash": "40d3a090f54c6569ab1632332b64b2c03c39dcf918b08424e98f38b5ae0af88f"
   }
  }
 },
 "nbformat": 4,
 "nbformat_minor": 2
}
